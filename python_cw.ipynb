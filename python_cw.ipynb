{
  "nbformat": 4,
  "nbformat_minor": 0,
  "metadata": {
    "colab": {
      "name": "python_cw.ipynb",
      "provenance": [],
      "collapsed_sections": [],
      "toc_visible": true,
      "include_colab_link": true
    },
    "kernelspec": {
      "display_name": "Python 3",
      "name": "python3"
    },
    "language_info": {
      "name": "python"
    }
  },
  "cells": [
    {
      "cell_type": "markdown",
      "metadata": {
        "id": "view-in-github",
        "colab_type": "text"
      },
      "source": [
        "<a href=\"https://colab.research.google.com/github/maing-rv/spotify_song_popularity_prediction/blob/main/python_cw.ipynb\" target=\"_parent\"><img src=\"https://colab.research.google.com/assets/colab-badge.svg\" alt=\"Open In Colab\"/></a>"
      ]
    },
    {
      "cell_type": "markdown",
      "metadata": {
        "id": "VPoOWjjsH_sj"
      },
      "source": [
        "# Loading and viewing the data"
      ]
    },
    {
      "cell_type": "code",
      "metadata": {
        "id": "2yX3wDfc47Dv"
      },
      "source": [
        "import pandas as pd\n",
        "import numpy as np\n",
        "import seaborn as sns\n",
        "from matplotlib import pyplot as plt\n",
        "\n",
        "%matplotlib inline"
      ],
      "execution_count": 2,
      "outputs": []
    },
    {
      "cell_type": "code",
      "metadata": {
        "id": "zKcUcBJj5NAn",
        "colab": {
          "resources": {
            "http://localhost:8080/nbextensions/google.colab/files.js": {
              "data": "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",
              "ok": true,
              "headers": [
                [
                  "content-type",
                  "application/javascript"
                ]
              ],
              "status": 200,
              "status_text": ""
            }
          },
          "base_uri": "https://localhost:8080/",
          "height": 37
        },
        "outputId": "ff2e2fb7-ebb5-4e1c-e101-d3cfb188c874"
      },
      "source": [
        "# How to load files: https://towardsdatascience.com/3-ways-to-load-csv-files-into-colab-7c14fcbdcb92\n",
        "from google.colab import files\n",
        "uploaded = files.upload()"
      ],
      "execution_count": null,
      "outputs": [
        {
          "output_type": "display_data",
          "data": {
            "text/html": [
              "\n",
              "     <input type=\"file\" id=\"files-bfbf14b0-5521-4b3e-81cc-daa44039ce89\" name=\"files[]\" multiple disabled\n",
              "        style=\"border:none\" />\n",
              "     <output id=\"result-bfbf14b0-5521-4b3e-81cc-daa44039ce89\">\n",
              "      Upload widget is only available when the cell has been executed in the\n",
              "      current browser session. Please rerun this cell to enable.\n",
              "      </output>\n",
              "      <script src=\"/nbextensions/google.colab/files.js\"></script> "
            ],
            "text/plain": [
              "<IPython.core.display.HTML object>"
            ]
          },
          "metadata": {
            "tags": []
          }
        }
      ]
    },
    {
      "cell_type": "code",
      "metadata": {
        "id": "JauF3Lg_XsDz"
      },
      "source": [
        "# Data w/ genres:\n",
        "#spotify_data_w_genres = pd.read_csv('data_w_genres.csv')\n",
        "#spotify_data_w_genres.head()"
      ],
      "execution_count": null,
      "outputs": []
    },
    {
      "cell_type": "code",
      "metadata": {
        "id": "6E1qWdoCB0N-"
      },
      "source": [
        "# Data by year:\n",
        "spotify_data_by_year = pd.read_csv('data_by_year.csv')\n",
        "spotify_data_by_year.head()"
      ],
      "execution_count": null,
      "outputs": []
    },
    {
      "cell_type": "code",
      "metadata": {
        "id": "Qhv44JCgKOnV"
      },
      "source": [
        "# Popularity by year, 1920 to 1950:\n",
        "plt.plot(spotify_data_by_year.year[:31], spotify_data_by_year.popularity[:31])\n",
        "plt.show()"
      ],
      "execution_count": null,
      "outputs": []
    },
    {
      "cell_type": "code",
      "metadata": {
        "id": "yONylnCB-Jn2"
      },
      "source": [
        "plt.plot(spotify_data_by_year.year[31:], spotify_data_by_year.popularity[31:])\n",
        "plt.show()"
      ],
      "execution_count": null,
      "outputs": []
    },
    {
      "cell_type": "code",
      "metadata": {
        "id": "4LfW0eK7Qtl7"
      },
      "source": [
        "# Popularity by year, 1920 to 2020:\n",
        "plt.plot(spotify_data_by_year.year, spotify_data_by_year.popularity)\n",
        "#plt.title(\"Average popularity from 1920 to 2021\")\n",
        "plt.show()"
      ],
      "execution_count": null,
      "outputs": []
    },
    {
      "cell_type": "code",
      "metadata": {
        "id": "3atniyYtiEXa"
      },
      "source": [
        "sns.lineplot(spotify_data_by_year.year, spotify_data_by_year.popularity)#.set_title('Popularity by Year')"
      ],
      "execution_count": null,
      "outputs": []
    },
    {
      "cell_type": "markdown",
      "metadata": {
        "id": "whTZ8GDTFLkV"
      },
      "source": [
        "# Data.csv"
      ]
    },
    {
      "cell_type": "code",
      "metadata": {
        "id": "ApoG6fwCz4qo"
      },
      "source": [
        "data = pd.read_csv('data.csv')\n",
        "#data.shape"
      ],
      "execution_count": null,
      "outputs": []
    },
    {
      "cell_type": "code",
      "metadata": {
        "id": "1voG2xxzCk8x"
      },
      "source": [
        "# Data with popularity:\n",
        "spotify_data = pd.read_csv('data.csv')\n",
        "\n",
        "# Overview of the data:\n",
        "spotify_data.head(10)"
      ],
      "execution_count": null,
      "outputs": []
    },
    {
      "cell_type": "code",
      "metadata": {
        "id": "vil01HlOXcDE"
      },
      "source": [
        "# Statistical description of the data:\n",
        "spotify_data.describe()"
      ],
      "execution_count": null,
      "outputs": []
    },
    {
      "cell_type": "code",
      "metadata": {
        "id": "YBt3dqdxPl3A"
      },
      "source": [
        "spotify_data.info()"
      ],
      "execution_count": null,
      "outputs": []
    },
    {
      "cell_type": "markdown",
      "metadata": {
        "id": "59soLxTbNEUk"
      },
      "source": [
        "**Column descriptions:**  \n",
        "Acousticness - The relative metric of the track being acoustic.  \n",
        "Danceability - The relative measurement of the track being danceable.  \n",
        "Duration_ms - The length of the track in milliseconds (ms).  \n",
        "Energy - The energy of the track.   \n",
        "Explicit - The binary value whether the track contains explicit content or not.  \n",
        "Instrumentalness - The relative ratio of the track being instrumental.    \n",
        "Key - 0-11 - The primary key of the track encoded as integers in between 0 and 11.  \n",
        "Liveness - The relative duration of the track sounding as a live performance.  \n",
        "Loudness - Relative loudness of the track in the typical range [-60, 0] in decibel (dB).  \n",
        "Mode - The binary value representing whether the track starts with a major (1) chord progression or not (0).    \n",
        "Speechiness - The relative length of the track containing any kind of human voice.  \n",
        "Tempo - The tempo of the track in Beat Per Minute (BPM).   \n",
        "Valence -  The positiveness of the track.   \n",
        "Year - The release year of track.\n",
        "\n",
        "Popularity - The popularity of the song lately, default country = US.\n",
        "\n",
        "**Columns to drop:**    \n",
        "1) artists - The list of artists credited for production of the track.   \n",
        "2) id - The primary identifier for the track, generated by Spotify.    \n",
        "3) release_date - The date of release of the track in yyyy-mm-dd, yyyy-mm, or even yyyy format.    \n",
        "4) name - The title of the track.    \n",
        "\n",
        "\n"
      ]
    },
    {
      "cell_type": "code",
      "metadata": {
        "id": "f0lyxpSFTJC9"
      },
      "source": [
        "#spotify_data_20_50 = spotify_data[spotify_data.year <= 1950]\n",
        "#spotify_data_20_50.shape"
      ],
      "execution_count": null,
      "outputs": []
    },
    {
      "cell_type": "code",
      "metadata": {
        "id": "bVIgS_GmVEFm"
      },
      "source": [
        "#spotify_data_50_90 = spotify_data[(spotify_data.year > 1950) & (spotify_data.year <= 1990)]\n",
        "#spotify_data_50_90.shape"
      ],
      "execution_count": null,
      "outputs": []
    },
    {
      "cell_type": "code",
      "metadata": {
        "id": "t9QqgFoXVqZT"
      },
      "source": [
        "#spotify_data_90_20 = spotify_data[spotify_data.year > 1990]\n",
        "#spotify_data_90_20.shape"
      ],
      "execution_count": null,
      "outputs": []
    },
    {
      "cell_type": "markdown",
      "metadata": {
        "id": "-NLyOlyrGLUK"
      },
      "source": [
        "### Preproccessing Dataset\n"
      ]
    },
    {
      "cell_type": "code",
      "metadata": {
        "id": "5HY2j8liHBIT"
      },
      "source": [
        "# Check for null values:\n",
        "spotify_data.isnull().sum()"
      ],
      "execution_count": null,
      "outputs": []
    },
    {
      "cell_type": "code",
      "metadata": {
        "id": "d0xWrSJKHpkV"
      },
      "source": [
        "# Check for duplicates - based on all columns:\n",
        "spotify_data.duplicated().sum()"
      ],
      "execution_count": null,
      "outputs": []
    },
    {
      "cell_type": "code",
      "metadata": {
        "id": "_ZcvGAIKY_iE"
      },
      "source": [
        "# Drop duplicates:\n",
        "spotify_data = spotify_data.drop_duplicates(keep='first')\n",
        "spotify_data.duplicated().sum()"
      ],
      "execution_count": null,
      "outputs": []
    },
    {
      "cell_type": "code",
      "metadata": {
        "id": "LDocx9wBH8TT"
      },
      "source": [
        "# Check for duplicates - based on name + artists - may have different id:\n",
        "#spotify_data[spotify_data.duplicated(subset=['name','artists'])]\n",
        "spotify_data.duplicated(subset=['name','artists']).sum()"
      ],
      "execution_count": null,
      "outputs": []
    },
    {
      "cell_type": "code",
      "metadata": {
        "id": "9iOImEiCJXwx"
      },
      "source": [
        "# Drop duplicates:\n",
        "spotify_data = spotify_data.drop_duplicates(subset=['name','artists'],keep='first')\n",
        "spotify_data.duplicated(subset=['name','artists']).sum()"
      ],
      "execution_count": null,
      "outputs": []
    },
    {
      "cell_type": "code",
      "metadata": {
        "id": "-P-KLjYZ0Jim"
      },
      "source": [
        "spotify_data.shape"
      ],
      "execution_count": null,
      "outputs": []
    },
    {
      "cell_type": "markdown",
      "metadata": {
        "id": "kYgzZIeUeAzZ"
      },
      "source": [
        "## Popularity distribution"
      ]
    },
    {
      "cell_type": "code",
      "metadata": {
        "id": "KZrxlPrktPK8"
      },
      "source": [
        "# Popularity distribution:\n",
        "sns.histplot(spotify_data['popularity']).set_title('Original popularity distribution')"
      ],
      "execution_count": null,
      "outputs": []
    },
    {
      "cell_type": "code",
      "metadata": {
        "id": "SaaBDXl_tQEg"
      },
      "source": [
        "# Tracks w/ popularity score of 0:\n",
        "spotify_data[spotify_data.popularity == 0]"
      ],
      "execution_count": null,
      "outputs": []
    },
    {
      "cell_type": "code",
      "metadata": {
        "id": "y6HeCAy2tTlx"
      },
      "source": [
        "# Drop tracks w/ popularity == 0:\n",
        "spotify_data.drop(spotify_data[spotify_data.popularity == 0].index, inplace=True)"
      ],
      "execution_count": null,
      "outputs": []
    },
    {
      "cell_type": "code",
      "metadata": {
        "id": "JJJu_PyFtVJt"
      },
      "source": [
        "# After:\n",
        "sns.histplot(spotify_data['popularity']).set_title('Popularity distribution after pre-processing')"
      ],
      "execution_count": null,
      "outputs": []
    },
    {
      "cell_type": "code",
      "metadata": {
        "id": "2CQ8X6YOtWii"
      },
      "source": [
        "spotify_data['popularity'].describe()"
      ],
      "execution_count": null,
      "outputs": []
    },
    {
      "cell_type": "code",
      "metadata": {
        "id": "Yoj1UhWwfTWW"
      },
      "source": [
        "# Drop 4 irrrelevant columns:\n",
        "spotify_data = spotify_data.drop(['id', 'artists', 'name', 'release_date'], axis=1)"
      ],
      "execution_count": null,
      "outputs": []
    },
    {
      "cell_type": "code",
      "metadata": {
        "id": "JpLi6m4Usbyl"
      },
      "source": [
        "print(spotify_data.shape)"
      ],
      "execution_count": null,
      "outputs": []
    },
    {
      "cell_type": "markdown",
      "metadata": {
        "id": "DaOz1EGHWqlL"
      },
      "source": [
        "# Correlation heat-map"
      ]
    },
    {
      "cell_type": "code",
      "metadata": {
        "id": "oE0YW33pIFL0"
      },
      "source": [
        "corr = spotify_data.corr()\n",
        "corr"
      ],
      "execution_count": null,
      "outputs": []
    },
    {
      "cell_type": "code",
      "metadata": {
        "id": "kbweLHuIIcaV"
      },
      "source": [
        "plt.figure(figsize=(15,10))\n",
        "sns.heatmap(corr, annot = True, cmap='BuPu') #BrBG_r\n",
        "plt.title('Correlation between numerical features')\n",
        "plt.show()"
      ],
      "execution_count": null,
      "outputs": []
    },
    {
      "cell_type": "code",
      "metadata": {
        "id": "zxKlmLTz37B5"
      },
      "source": [
        "series = np.abs(corr['popularity']).sort_values(ascending=False)\n",
        "print(series)"
      ],
      "execution_count": null,
      "outputs": []
    },
    {
      "cell_type": "markdown",
      "metadata": {
        "id": "dhRQ2GOiiF2F"
      },
      "source": [
        "# Data exploration\n"
      ]
    },
    {
      "cell_type": "markdown",
      "metadata": {
        "id": "SIFZ-JFskbBg"
      },
      "source": [
        "This section will be exploring the overall trends found in the dataset, to see how the variables correlate with each other.\n",
        "There 10 continuous variables and 3 categorial ones - explicit, key, mode."
      ]
    },
    {
      "cell_type": "code",
      "metadata": {
        "id": "fvjDBbNG8wl0"
      },
      "source": [
        "# Pair-plot for features:\n",
        "#sns.pairplot(spotify_data)"
      ],
      "execution_count": null,
      "outputs": []
    },
    {
      "cell_type": "markdown",
      "metadata": {
        "id": "njANqgiPWJVB"
      },
      "source": [
        "## Acousticness"
      ]
    },
    {
      "cell_type": "code",
      "metadata": {
        "id": "QKJS8iybWa-F"
      },
      "source": [
        "#plt.hist(spotify_data.acousticness)\n",
        "#plt.xlabel('acousticness')\n",
        "#plt.ylabel('count')\n",
        "#plt.title('Acousticness Distribution')\n",
        "#plt.show()"
      ],
      "execution_count": null,
      "outputs": []
    },
    {
      "cell_type": "code",
      "metadata": {
        "id": "_6R_dKiLB0VS"
      },
      "source": [
        "#sns.histplot(spotify_data.acousticness).set_title('Acousticness Distribution')"
      ],
      "execution_count": null,
      "outputs": []
    },
    {
      "cell_type": "code",
      "metadata": {
        "id": "9ec4UaFothEL"
      },
      "source": [
        "# Acousticness vs. popularity:\n",
        "acousticness_vs_popularity = sns.jointplot(x = 'acousticness', y = 'popularity', data = spotify_data)\n",
        "\n",
        "#acousticness_vs_popularity.savefig('acousticness_vs_popularity.png')"
      ],
      "execution_count": null,
      "outputs": []
    },
    {
      "cell_type": "code",
      "metadata": {
        "id": "wn-pFEpw6Wzq"
      },
      "source": [
        "#sns.violinplot(x = 'key', y = 'popularity', data = spotify_data)"
      ],
      "execution_count": null,
      "outputs": []
    },
    {
      "cell_type": "markdown",
      "metadata": {
        "id": "zeN62IN4WDEH"
      },
      "source": [
        "## Instrumentalness - split into a binary feature"
      ]
    },
    {
      "cell_type": "code",
      "metadata": {
        "id": "7PtNz4V3YflM"
      },
      "source": [
        "sns.histplot(spotify_data.instrumentalness).set_title('Instrumentalness Distribution')"
      ],
      "execution_count": null,
      "outputs": []
    },
    {
      "cell_type": "code",
      "metadata": {
        "id": "N0MrW7bBYphd"
      },
      "source": [
        "#data[data['instrumentalness']==0]"
      ],
      "execution_count": null,
      "outputs": []
    },
    {
      "cell_type": "code",
      "metadata": {
        "id": "p_QcIrNXYmrN"
      },
      "source": [
        "#spotify_data['instrumentalness'] = spotify_data['instrumentalness'].replace(0, spotify_data['instrumentalness'].mean())"
      ],
      "execution_count": null,
      "outputs": []
    },
    {
      "cell_type": "code",
      "metadata": {
        "id": "vK07btpR37hc"
      },
      "source": [
        "# Instrumentalness:\n",
        "instrumentalness_vs_popularity = sns.jointplot(x = 'instrumentalness', y = 'popularity', data = spotify_data)\n",
        "#instrumentalness_vs_popularity.savefig('instrumentalness_vs_popularity.png')"
      ],
      "execution_count": null,
      "outputs": []
    },
    {
      "cell_type": "code",
      "metadata": {
        "id": "frieJnLX_3XI"
      },
      "source": [
        "#plt.hist(spotify_data.instrumentalness)\n",
        "#plt.xlabel('instrumentalness')\n",
        "#plt.ylabel('count')\n",
        "#plt.title('Instrumentalness Distribution')\n",
        "#plt.show()"
      ],
      "execution_count": null,
      "outputs": []
    },
    {
      "cell_type": "code",
      "metadata": {
        "id": "4mSo6UEyLLS7"
      },
      "source": [
        "# Split into binary feature:\n",
        "spotify_data['instrumentalness'] = list(map((lambda x: 0 if x <= 0.5 else 1), spotify_data.instrumentalness))"
      ],
      "execution_count": null,
      "outputs": []
    },
    {
      "cell_type": "code",
      "metadata": {
        "id": "Ymk_0o9mrRpw"
      },
      "source": [
        "instrumentalness_distr = sns.countplot(spotify_data.instrumentalness).set_title('Instrumentalness Distribution')\n",
        "#instrumentalness_distr = instrumentalness_distr.get_figure()\n",
        "#instrumentalness_distr.savefig('instrumentalness_distr.png')"
      ],
      "execution_count": null,
      "outputs": []
    },
    {
      "cell_type": "code",
      "metadata": {
        "id": "O37ePz58hgOR"
      },
      "source": [
        "#sns.boxplot(x = 'instrumentalness', y = 'popularity', data = spotify_data)\n",
        "binary_instrumentalness_vs_popularity = sns.boxplot(x = 'instrumentalness', y = 'popularity', data = spotify_data).set_title('Instrumentalness vs. Popularity')\n",
        "#binary_instrumentalness_vs_popularity = binary_instrumentalness_vs_popularity.get_figure()\n",
        "#binary_instrumentalness_vs_popularity.savefig('binary_instrumentalness_vs_popularity.png')"
      ],
      "execution_count": null,
      "outputs": []
    },
    {
      "cell_type": "markdown",
      "metadata": {
        "id": "GuwWQRMFV6r5"
      },
      "source": [
        "## Energy"
      ]
    },
    {
      "cell_type": "code",
      "metadata": {
        "id": "F3zzqDEP4FSL"
      },
      "source": [
        "# Energy:\n",
        "energy_vs_popularity = sns.jointplot(x = 'energy', y = 'popularity', data = spotify_data)\n",
        "#energy_vs_popularity.savefig('energy_vs_popularity.png')"
      ],
      "execution_count": null,
      "outputs": []
    },
    {
      "cell_type": "code",
      "metadata": {
        "id": "3k7F9RQrALYn"
      },
      "source": [
        "#plt.hist(spotify_data.energy)\n",
        "#plt.xlabel('energy')\n",
        "#plt.ylabel('count')\n",
        "#plt.title('Energy Distribution')\n",
        "#plt.show()"
      ],
      "execution_count": null,
      "outputs": []
    },
    {
      "cell_type": "code",
      "metadata": {
        "id": "RP881juvCD_f"
      },
      "source": [
        "#sns.histplot(spotify_data.energy).set_title('Energy Distribution')"
      ],
      "execution_count": null,
      "outputs": []
    },
    {
      "cell_type": "markdown",
      "metadata": {
        "id": "PaZB_5kyV3k9"
      },
      "source": [
        "## Loudness - skewed left, negative values, a few marginal outliers"
      ]
    },
    {
      "cell_type": "code",
      "metadata": {
        "id": "mp_5xjvbxLWJ"
      },
      "source": [
        "# Loudness:\n",
        "loudness_vs_popularity = sns.jointplot(x = 'loudness', y = 'popularity', data = spotify_data)\n",
        "#loudness_vs_popularity.savefig('loudness_vs_popularity.png')"
      ],
      "execution_count": null,
      "outputs": []
    },
    {
      "cell_type": "code",
      "metadata": {
        "id": "_AiIOcNoAhxW"
      },
      "source": [
        "#plt.hist(spotify_data.loudness)\n",
        "#plt.xlabel('loudness')\n",
        "#plt.ylabel('count')\n",
        "#plt.title('Loudness Distribution')\n",
        "#plt.show()"
      ],
      "execution_count": null,
      "outputs": []
    },
    {
      "cell_type": "code",
      "metadata": {
        "id": "h0Q3RWnDCKIH"
      },
      "source": [
        "#sns.histplot(spotify_data.loudness).set_title('Loudness Distribution')"
      ],
      "execution_count": null,
      "outputs": []
    },
    {
      "cell_type": "code",
      "metadata": {
        "id": "brok1HUuWl6d"
      },
      "source": [
        "#spotify_data['loudness_log'] = np.log1p(spotify_data['loudness'])\n",
        "#sns.distplot(spotify_data.loudness_log)"
      ],
      "execution_count": null,
      "outputs": []
    },
    {
      "cell_type": "markdown",
      "metadata": {
        "id": "yveIT1_OVxB3"
      },
      "source": [
        "## Duration - skewed right (log transformed), a few marginal outliers"
      ]
    },
    {
      "cell_type": "code",
      "metadata": {
        "id": "G1Bc8R7_5JeX"
      },
      "source": [
        "# Duration:\n",
        "duration_ms_vs_popularity = sns.jointplot(x = 'duration_ms', y = 'popularity', data = spotify_data)\n",
        "#duration_ms_vs_popularity.savefig('duration_ms_vs_popularity.png')"
      ],
      "execution_count": null,
      "outputs": []
    },
    {
      "cell_type": "code",
      "metadata": {
        "id": "EsgW19Yp_CtS"
      },
      "source": [
        "duration_ms_distr = sns.histplot(spotify_data['duration_ms']).set_title('Duration Distribution')\n",
        "#duration_ms_distr = duration_ms_distr.get_figure()\n",
        "#duration_ms_distr.savefig('duration_ms_distr.png')"
      ],
      "execution_count": null,
      "outputs": []
    },
    {
      "cell_type": "code",
      "metadata": {
        "id": "1C132zFSYCjP"
      },
      "source": [
        "# Log transform:\n",
        "spotify_data['duration_ms_log'] = np.log1p(spotify_data['duration_ms'])\n",
        "\n",
        "duration_ms_log_distr = sns.histplot(spotify_data['duration_ms_log']).set_title('Log Duration Distribution')\n",
        "#duration_ms_log_distr = duration_ms_log_distr.get_figure()\n",
        "#duration_ms_log_distr.savefig('duration_ms_log_distr.png')"
      ],
      "execution_count": null,
      "outputs": []
    },
    {
      "cell_type": "code",
      "metadata": {
        "id": "fi23TbEdOZ_Z"
      },
      "source": [
        "print(spotify_data['duration_ms'].skew(), spotify_data['duration_ms_log'].skew())"
      ],
      "execution_count": null,
      "outputs": []
    },
    {
      "cell_type": "markdown",
      "metadata": {
        "id": "1w6YfDjuVuMC"
      },
      "source": [
        "## Liveness - skewed right"
      ]
    },
    {
      "cell_type": "code",
      "metadata": {
        "id": "Gd9XtTZs_fiS"
      },
      "source": [
        "# Liveness:\n",
        "liveness_vs_popularity = sns.jointplot(x = 'liveness', y = 'popularity', data = spotify_data)\n",
        "#liveness_vs_popularity.savefig('liveness_vs_popularity.png')"
      ],
      "execution_count": null,
      "outputs": []
    },
    {
      "cell_type": "code",
      "metadata": {
        "id": "ldbeTet2BRZu"
      },
      "source": [
        "#plt.hist(spotify_data.liveness)\n",
        "#plt.xlabel('liveness')\n",
        "#plt.ylabel('count')\n",
        "#plt.title('Liveness Distribution')\n",
        "#plt.show()"
      ],
      "execution_count": null,
      "outputs": []
    },
    {
      "cell_type": "code",
      "metadata": {
        "id": "v3YLJtaHBI1W"
      },
      "source": [
        "sns.histplot(spotify_data.liveness).set_title('Liveness Distribution')"
      ],
      "execution_count": null,
      "outputs": []
    },
    {
      "cell_type": "code",
      "metadata": {
        "id": "OQc8vcu7LFW3"
      },
      "source": [
        "sqrt_liveness=np.sqrt(spotify_data.liveness)\n",
        "sns.histplot(sqrt_liveness)"
      ],
      "execution_count": null,
      "outputs": []
    },
    {
      "cell_type": "code",
      "metadata": {
        "id": "HvfNwPAJYPuA"
      },
      "source": [
        "#spotify_data['liveness_log'] = np.log1p(spotify_data['liveness'])\n",
        "#sns.distplot(spotify_data.liveness_log)"
      ],
      "execution_count": null,
      "outputs": []
    },
    {
      "cell_type": "markdown",
      "metadata": {
        "id": "yDLhsxCrVo6c"
      },
      "source": [
        "##Speechiness - missing values (or outliers) at 0 + tracks above 0.66 dropped (audiobooks/podcasts) + log transformed "
      ]
    },
    {
      "cell_type": "code",
      "metadata": {
        "id": "gMpN3u0p_kbQ"
      },
      "source": [
        "# Speechiness:\n",
        "speechiness_vs_popularity = sns.jointplot(x = 'speechiness', y = 'popularity', data = spotify_data)\n",
        "#speechiness_vs_popularity.savefig('speechiness_vs_popularity.png')"
      ],
      "execution_count": null,
      "outputs": []
    },
    {
      "cell_type": "code",
      "metadata": {
        "id": "q3sJadAvMbpY"
      },
      "source": [
        "#plt.hist(spotify_data.speechiness)\n",
        "#plt.xlabel('speechiness')\n",
        "#plt.ylabel('count')\n",
        "#plt.title('Speechiness Distribution')\n",
        "#plt.show()"
      ],
      "execution_count": null,
      "outputs": []
    },
    {
      "cell_type": "code",
      "metadata": {
        "id": "vsgXyyuLZYI5"
      },
      "source": [
        "# Missing values at 0 replaced with a mean: \n",
        "spotify_data['speechiness'] = spotify_data['speechiness'].replace(0, spotify_data['speechiness'].mean())\n",
        "spotify_data[spotify_data['speechiness'] == 0] # check"
      ],
      "execution_count": null,
      "outputs": []
    },
    {
      "cell_type": "code",
      "metadata": {
        "id": "msUnDuNfOnEh"
      },
      "source": [
        "#spotify_data['speechiness'] = list(map((lambda x: 0 if x < 0.66 else 1), spotify_data.speechiness))\n",
        "#spotify_data[spotify_data.speechiness == 1]"
      ],
      "execution_count": null,
      "outputs": []
    },
    {
      "cell_type": "code",
      "metadata": {
        "id": "rOn6aRTzUhWg"
      },
      "source": [
        "spotify_data[spotify_data.speechiness > 0.66]"
      ],
      "execution_count": null,
      "outputs": []
    },
    {
      "cell_type": "code",
      "metadata": {
        "id": "M42AcEA7MRwC"
      },
      "source": [
        "# Drop tracks w/ speechiness > 0.66 - audiobooks and podcasts:\n",
        "spotify_data.drop(spotify_data[spotify_data.speechiness > 0.66].index, inplace=True)\n",
        "\n",
        "#sns.histplot(spotify_data['speechiness']).set_title('Speechiness Distribution')"
      ],
      "execution_count": null,
      "outputs": []
    },
    {
      "cell_type": "code",
      "metadata": {
        "id": "kIQWtjRKuQ1M"
      },
      "source": [
        "trans_speechiness_vs_popularity = sns.jointplot(x = 'speechiness', y = 'popularity', data = spotify_data)\n",
        "#trans_speechiness_vs_popularity.savefig('trans_speechiness_vs_popularity.png')"
      ],
      "execution_count": null,
      "outputs": []
    },
    {
      "cell_type": "code",
      "metadata": {
        "id": "SCan3ytxDnJ8"
      },
      "source": [
        "# Speechiness distribution:\n",
        "speechiness_distr = sns.histplot(spotify_data['speechiness']).set_title('Speechiness Distribution')\n",
        "\n",
        "#speechiness_distr = speechiness_distr.get_figure()\n",
        "#speechiness_distr.savefig('speechiness_distr.png')"
      ],
      "execution_count": null,
      "outputs": []
    },
    {
      "cell_type": "code",
      "metadata": {
        "id": "sDZeq-C0L9u2"
      },
      "source": [
        "#from scipy import stats\n",
        "#boxcox_speechiness=stats.boxcox(spotify_data.speechiness)[0]\n",
        "#sns.histplot(boxcox_speechiness)"
      ],
      "execution_count": null,
      "outputs": []
    },
    {
      "cell_type": "code",
      "metadata": {
        "id": "A5sxIYSoZhxY"
      },
      "source": [
        "# Log transform:\n",
        "spotify_data['speechiness_log'] = np.log(spotify_data['speechiness'])\n",
        "\n",
        "trans_speechiness_vs_popularity = sns.jointplot(x = 'speechiness_log', y = 'popularity', data = spotify_data)\n",
        "#trans_speechiness_vs_popularity.savefig('trans_speechiness_vs_popularity.png')"
      ],
      "execution_count": null,
      "outputs": []
    },
    {
      "cell_type": "code",
      "metadata": {
        "id": "uZZbFLB0MMK4"
      },
      "source": [
        "speechiness_log_distr = sns.histplot(spotify_data['speechiness_log']).set_title('Log Speechiness Distribution')\n",
        "#speechiness_log_distr = speechiness_log_distr.get_figure()\n",
        "#speechiness_log_distr.savefig('speechiness_log_distr.png')"
      ],
      "execution_count": null,
      "outputs": []
    },
    {
      "cell_type": "markdown",
      "metadata": {
        "id": "OFYTpVmqVHNJ"
      },
      "source": [
        "## Tempo - missing values (or outliers) at 0 replaced w/ mean"
      ]
    },
    {
      "cell_type": "code",
      "metadata": {
        "id": "-nMZEKd8lsIA"
      },
      "source": [
        "# Tempo:\n",
        "tempo_vs_popularity = sns.jointplot(x = 'tempo', y = 'popularity', data = spotify_data)\n",
        "#tempo_vs_popularity.savefig('tempo_vs_popularity.png')"
      ],
      "execution_count": null,
      "outputs": []
    },
    {
      "cell_type": "code",
      "metadata": {
        "id": "anMuvNi7BhX5"
      },
      "source": [
        "# Missing values at 0 replaced with a mean: \n",
        "spotify_data['tempo'] = spotify_data['tempo'].replace(0, spotify_data['tempo'].mean())\n",
        "spotify_data[spotify_data['tempo'] == 0] # check"
      ],
      "execution_count": null,
      "outputs": []
    },
    {
      "cell_type": "code",
      "metadata": {
        "id": "1EmLOe6M_zwd"
      },
      "source": [
        "# Tempo:\n",
        "trans_tempo_vs_popularity = sns.jointplot(x = 'tempo', y = 'popularity', data = spotify_data)\n",
        "#trans_tempo_vs_popularity.savefig('trans_tempo_vs_popularity.png')"
      ],
      "execution_count": null,
      "outputs": []
    },
    {
      "cell_type": "code",
      "metadata": {
        "id": "Y-v0toAwD6oz"
      },
      "source": [
        "#sns.histplot(spotify_data['tempo']).set_title('Tempo Distribution')"
      ],
      "execution_count": null,
      "outputs": []
    },
    {
      "cell_type": "markdown",
      "metadata": {
        "id": "9E_nYI1fVNzf"
      },
      "source": [
        "## Valence - missing values (or outliers) at 0 replaced with mean"
      ]
    },
    {
      "cell_type": "code",
      "metadata": {
        "id": "ezwwdmzlmih8"
      },
      "source": [
        "# Valence\n",
        "valence_vs_popularity = sns.jointplot(x = 'valence', y = 'popularity', data = spotify_data)\n",
        "#valence_vs_popularity.savefig('valence_vs_popularity.png')"
      ],
      "execution_count": null,
      "outputs": []
    },
    {
      "cell_type": "code",
      "metadata": {
        "id": "5-PxqhwZJlXB"
      },
      "source": [
        "# Missing values at 0 replaced with a mean:\n",
        "spotify_data['valence'] = spotify_data['valence'].replace(0, spotify_data['valence'].mean())\n",
        "spotify_data[spotify_data['valence'] == 0] # check"
      ],
      "execution_count": null,
      "outputs": []
    },
    {
      "cell_type": "code",
      "metadata": {
        "id": "zwzB4B34_0er"
      },
      "source": [
        "# Valence\n",
        "trans_valence_vs_popularity = sns.jointplot(x = 'valence', y = 'popularity', data = spotify_data)\n",
        "#trans_valence_vs_popularity.savefig('trans_valence_vs_popularity.png')"
      ],
      "execution_count": null,
      "outputs": []
    },
    {
      "cell_type": "code",
      "metadata": {
        "id": "y55fcduwD_Rc"
      },
      "source": [
        "#sns.histplot(spotify_data['valence']).set_title('Valence Distribution')"
      ],
      "execution_count": null,
      "outputs": []
    },
    {
      "cell_type": "markdown",
      "metadata": {
        "id": "HBtwFlmSVUUI"
      },
      "source": [
        "## Danceability - outliers at 0 replaced with mean\n"
      ]
    },
    {
      "cell_type": "code",
      "metadata": {
        "id": "dTluT8Id0oFo"
      },
      "source": [
        "# Danceability:\n",
        "danceability_vs_popularity = sns.jointplot(x = 'danceability', y = 'popularity', data = spotify_data)\n",
        "#danceability_vs_popularity.savefig('danceability_vs_popularity.png')"
      ],
      "execution_count": null,
      "outputs": []
    },
    {
      "cell_type": "code",
      "metadata": {
        "id": "ICml3rurBq_k"
      },
      "source": [
        "# Missing values at 0 replaced with a mean:\n",
        "spotify_data['danceability'] = spotify_data['danceability'].replace(0, spotify_data['danceability'].mean())\n",
        "spotify_data[spotify_data['danceability'] == 0] # check"
      ],
      "execution_count": null,
      "outputs": []
    },
    {
      "cell_type": "code",
      "metadata": {
        "id": "VJZ4hENlYLau"
      },
      "source": [
        "# Danceability:\n",
        "trans_danceability_vs_popularity = sns.jointplot(x = 'danceability', y = 'popularity', data = spotify_data)\n",
        "#trans_danceability_vs_popularity.savefig('trans_danceability_vs_popularity.png')"
      ],
      "execution_count": null,
      "outputs": []
    },
    {
      "cell_type": "code",
      "metadata": {
        "id": "ySpG8E1QEFvl"
      },
      "source": [
        "#sns.histplot(spotify_data['danceability']).set_title('Danceability Distribution')"
      ],
      "execution_count": null,
      "outputs": []
    },
    {
      "cell_type": "markdown",
      "metadata": {
        "id": "65ZeZhuUVX5Z"
      },
      "source": [
        "## Year"
      ]
    },
    {
      "cell_type": "code",
      "metadata": {
        "id": "2sxSRyKuswhJ"
      },
      "source": [
        "# Year\n",
        "year_vs_popularity = sns.jointplot(x = 'year', y = 'popularity', data = spotify_data)\n",
        "#year_vs_popularity.savefig('year_vs_popularity.png')"
      ],
      "execution_count": null,
      "outputs": []
    },
    {
      "cell_type": "code",
      "metadata": {
        "id": "ZgoQvcX2EOP1"
      },
      "source": [
        "sns.histplot(spotify_data['year']).set_title('Year Distribution')"
      ],
      "execution_count": null,
      "outputs": []
    },
    {
      "cell_type": "markdown",
      "metadata": {
        "id": "xRtHW7CTVcZG"
      },
      "source": [
        "## Key"
      ]
    },
    {
      "cell_type": "code",
      "metadata": {
        "id": "3a5-RbrFs1-G"
      },
      "source": [
        "# Key:\n",
        "#sns.distplot(spotify_data['key']).set_title('Key Distribution')\n",
        "#plt.hist(spotify_data['key'])\n",
        "#plt.title('Key Distribution')\n",
        "#plt.show()\n",
        "\n",
        "# Key distribution:\n",
        "key_distr = sns.countplot(spotify_data.key).set_title('Key Distribution')\n",
        "\n",
        "#key_distr = key_distr.get_figure()\n",
        "#key_distr.savefig('key_distr.png')"
      ],
      "execution_count": null,
      "outputs": []
    },
    {
      "cell_type": "code",
      "metadata": {
        "id": "idv8r8-1wDy6"
      },
      "source": [
        "key_vs_popularity = sns.barplot(x = 'key', y = 'popularity', data = spotify_data).set_title('Popularity Based on Key')\n",
        "#key_vs_popularity = key_vs_popularity.get_figure()\n",
        "#key_vs_popularity.savefig('key_vs_popularity.png')"
      ],
      "execution_count": null,
      "outputs": []
    },
    {
      "cell_type": "code",
      "metadata": {
        "id": "WNLwgoGSyZ4D"
      },
      "source": [
        "# Key vs. popularity:\n",
        "key_vs_popularity = sns.boxplot(x = 'key', y = 'popularity', data = spotify_data).set_title('Popularity Based on Key')\n",
        "\n",
        "#key_vs_popularity = key_vs_popularity.get_figure()\n",
        "#key_vs_popularity.savefig('key_vs_popularity.png')"
      ],
      "execution_count": null,
      "outputs": []
    },
    {
      "cell_type": "markdown",
      "metadata": {
        "id": "8Wr4B5LFVfOA"
      },
      "source": [
        "## Mode"
      ]
    },
    {
      "cell_type": "code",
      "metadata": {
        "id": "H26HNIEjEmgh"
      },
      "source": [
        "# Mode:\n",
        "mode_distr = sns.countplot(spotify_data['mode']).set_title('Mode Distribution')\n",
        "#mode_distr = mode_distr.get_figure()\n",
        "#mode_distr.savefig('mode_distr.png')"
      ],
      "execution_count": null,
      "outputs": []
    },
    {
      "cell_type": "code",
      "metadata": {
        "id": "7e3u5p9DvECe"
      },
      "source": [
        "# Mode vs. popularity:\n",
        "mode_vs_popularity = sns.barplot(x = 'mode', y = 'popularity', data = spotify_data).set_title('Popularity Based on Mode')\n",
        "\n",
        "\n",
        "#mode_vs_popularity = mode_vs_popularity.get_figure()\n",
        "#mode_vs_popularity.savefig('mode_vs_popularity.png')"
      ],
      "execution_count": null,
      "outputs": []
    },
    {
      "cell_type": "markdown",
      "metadata": {
        "id": "m08xj5IhViM_"
      },
      "source": [
        "## Explicit"
      ]
    },
    {
      "cell_type": "code",
      "metadata": {
        "id": "Ui_oGh4iFE3y"
      },
      "source": [
        "# Explicit:\n",
        "explicit_distr = sns.countplot(spotify_data.explicit).set_title('Explicit Distribution')\n",
        "#explicit_distr = explicit_distr.get_figure()\n",
        "#explicit_distr.savefig('explicit_distr.png')"
      ],
      "execution_count": null,
      "outputs": []
    },
    {
      "cell_type": "code",
      "metadata": {
        "id": "206gevwJvIoL"
      },
      "source": [
        "# Explicit:\n",
        "explicit_vs_popularity = sns.barplot(x = 'explicit', y = 'popularity', data = spotify_data).set_title('Popularity Based on Explicit Content')\n",
        "#explicit_vs_popularity = explicit_vs_popularity.get_figure()\n",
        "#explicit_vs_popularity.savefig('explicit_vs_popularity.png')"
      ],
      "execution_count": null,
      "outputs": []
    },
    {
      "cell_type": "code",
      "metadata": {
        "id": "A96tGHIivbLn"
      },
      "source": [
        "explicit_vs_popularity = sns.boxplot(x = 'explicit', y = 'popularity', data = spotify_data).set_title('Popularity Based on Explicit Content')\n",
        "#explicit_vs_popularity = explicit_vs_popularity.get_figure()\n",
        "#explicit_vs_popularity.savefig('explicit_vs_popularity.png')"
      ],
      "execution_count": null,
      "outputs": []
    },
    {
      "cell_type": "markdown",
      "metadata": {
        "id": "7TN9W5Ks2UGA"
      },
      "source": [
        "# Log transformation - heat-map"
      ]
    },
    {
      "cell_type": "code",
      "metadata": {
        "id": "rR6NPnIXWRto"
      },
      "source": [
        "corr = spotify_data.corr()\n",
        "np.abs(corr['popularity']).sort_values(ascending=False)"
      ],
      "execution_count": null,
      "outputs": []
    },
    {
      "cell_type": "code",
      "metadata": {
        "id": "-ykpr5lBWtni"
      },
      "source": [
        "plt.figure(figsize=(20,15))\n",
        "sns.heatmap(corr, annot = True, cmap='BuPu') #BrBG_r\n",
        "plt.title('Correlation between numerical features')"
      ],
      "execution_count": null,
      "outputs": []
    },
    {
      "cell_type": "code",
      "metadata": {
        "id": "x6y4h2LHmv0D"
      },
      "source": [
        "# Threshold at 0.80 - drop columns:\n",
        "spotify_data = spotify_data.drop(['duration_ms', 'speechiness'], axis=1)"
      ],
      "execution_count": null,
      "outputs": []
    },
    {
      "cell_type": "code",
      "metadata": {
        "id": "dx_Kh8jFp8B-"
      },
      "source": [
        "spotify_data.describe()"
      ],
      "execution_count": null,
      "outputs": []
    },
    {
      "cell_type": "code",
      "metadata": {
        "id": "XTJSVm-EPaoO"
      },
      "source": [
        "spotify_data.shape"
      ],
      "execution_count": null,
      "outputs": []
    },
    {
      "cell_type": "code",
      "metadata": {
        "id": "8zqU3ZTKQpwb"
      },
      "source": [
        "corr = spotify_data.corr()\n",
        "print('Correlation coefficients: ')\n",
        "np.abs(corr['popularity']).sort_values(ascending=False)"
      ],
      "execution_count": null,
      "outputs": []
    },
    {
      "cell_type": "code",
      "metadata": {
        "id": "h_mANquVi9pa"
      },
      "source": [
        "plt.figure(figsize=(15,10))\n",
        "sns.heatmap(corr, annot = True, cmap='BuPu') #BrBG_r\n",
        "plt.title('Correlation between numerical features')"
      ],
      "execution_count": null,
      "outputs": []
    },
    {
      "cell_type": "markdown",
      "metadata": {
        "id": "bepGfuMuBLh-"
      },
      "source": [
        "# Feature extraction\n"
      ]
    },
    {
      "cell_type": "markdown",
      "metadata": {
        "id": "mapDgi9TRnNs"
      },
      "source": [
        "## For Regression:"
      ]
    },
    {
      "cell_type": "code",
      "metadata": {
        "id": "SLOTk5mtRo8y"
      },
      "source": [
        "# Create features' and target variable:\n",
        "X_regr = spotify_data.drop(['popularity'],axis=1)\n",
        "#print(X_regr)\n",
        "y_regr = spotify_data.popularity\n",
        "#print(y_regr)"
      ],
      "execution_count": null,
      "outputs": []
    },
    {
      "cell_type": "code",
      "metadata": {
        "id": "0b571gEWR4wU"
      },
      "source": [
        "# Split the data - train and test sets:\n",
        "from sklearn.model_selection import train_test_split\n",
        "X_regr_train, X_regr_test, y_regr_train, y_regr_test = train_test_split(X_regr, y_regr, test_size = 0.2, random_state=0)"
      ],
      "execution_count": null,
      "outputs": []
    },
    {
      "cell_type": "markdown",
      "metadata": {
        "id": "E36hmDOgRibg"
      },
      "source": [
        "## For Classification:"
      ]
    },
    {
      "cell_type": "code",
      "metadata": {
        "id": "DJrPyEno2td2"
      },
      "source": [
        "# Popularity threshold for classification:\n",
        "spotify_data.loc[spotify_data['popularity'] < 50, 'popularity'] = 0 \n",
        "spotify_data.loc[spotify_data['popularity'] >= 50, 'popularity'] = 1\n",
        "#spotify_data.loc[spotify_data['popularity'] == 1]"
      ],
      "execution_count": null,
      "outputs": []
    },
    {
      "cell_type": "code",
      "metadata": {
        "id": "a4ZDXG3lpk4H"
      },
      "source": [
        "# Create features' and target variable:\n",
        "X = spotify_data.drop(['popularity'],axis=1)\n",
        "#print(X)\n",
        "y = spotify_data.popularity\n",
        "#print(y)"
      ],
      "execution_count": null,
      "outputs": []
    },
    {
      "cell_type": "code",
      "metadata": {
        "id": "FAuy_Tnh-QIg"
      },
      "source": [
        "# Split the data - train and test sets:\n",
        "from sklearn.model_selection import train_test_split\n",
        "X_train, X_test, y_train, y_test = train_test_split(X, y, test_size = 0.2, random_state=0)"
      ],
      "execution_count": null,
      "outputs": []
    },
    {
      "cell_type": "markdown",
      "metadata": {
        "id": "gAn_9htA2axU"
      },
      "source": [
        "# Normalisation"
      ]
    },
    {
      "cell_type": "markdown",
      "metadata": {
        "id": "C-C4lR-0Dl-g"
      },
      "source": [
        "We need to unskew the data, e.g. log transformation, and then normalise it, e.g. MinMaxScaler - before running the feature selection algorithm.   \n",
        "\n",
        "https://scikit-learn.org/stable/modules/preprocessing.html"
      ]
    },
    {
      "cell_type": "code",
      "metadata": {
        "id": "in8hGfQc2Plc"
      },
      "source": [
        "from sklearn.preprocessing import MinMaxScaler\n",
        "\n",
        "cols = ['loudness', 'tempo', 'year', 'duration_ms_log', 'speechiness_log']\n",
        "\n",
        "# For classification variables:\n",
        "scaler = MinMaxScaler()\n",
        "X_train[cols] = scaler.fit_transform(X_train[cols])\n",
        "X_test[cols] = scaler.transform(X_test[cols])"
      ],
      "execution_count": null,
      "outputs": []
    },
    {
      "cell_type": "code",
      "metadata": {
        "id": "IugT6GDS9pQG"
      },
      "source": [
        "# For regression variables:\n",
        "scaler = MinMaxScaler()\n",
        "X_regr_train[cols] = scaler.fit_transform(X_regr_train[cols])\n",
        "X_regr_test[cols] = scaler.transform(X_regr_test[cols])"
      ],
      "execution_count": null,
      "outputs": []
    },
    {
      "cell_type": "markdown",
      "metadata": {
        "id": "6HEWCJrZ77do"
      },
      "source": [
        "# Feature selection\n"
      ]
    },
    {
      "cell_type": "markdown",
      "metadata": {
        "id": "xB42OEJ9WOEG"
      },
      "source": [
        "## K Best Algorithm - feature scoring"
      ]
    },
    {
      "cell_type": "code",
      "metadata": {
        "id": "CffcUaUPCY-A"
      },
      "source": [
        "# Import SelectKBest, chi2 / f_classif (score functions for classification), f_regression (score function for regression)\n",
        "from sklearn.feature_selection import SelectKBest, chi2, f_classif, f_regression"
      ],
      "execution_count": null,
      "outputs": []
    },
    {
      "cell_type": "code",
      "metadata": {
        "colab": {
          "base_uri": "https://localhost:8080/"
        },
        "id": "_hNHjsZj_QLz",
        "outputId": "2ca2c847-df28-4bd4-8f3a-a6370b09ed31"
      },
      "source": [
        "# Create the object for SelectKBest and fit and transform the classification data:\n",
        "# k is the number of features you want to select [here we are scoring 'all']:\n",
        "kbest = SelectKBest(score_func = chi2, k = 'all')\n",
        "ordered_features = kbest.fit(X_train,y_train)"
      ],
      "execution_count": null,
      "outputs": [
        {
          "output_type": "execute_result",
          "data": {
            "text/plain": [
              "SelectKBest(k='all', score_func=<function chi2 at 0x7f0e954255f0>)"
            ]
          },
          "metadata": {
            "tags": []
          },
          "execution_count": 170
        }
      ]
    },
    {
      "cell_type": "code",
      "metadata": {
        "id": "NGoepbrpuqEk"
      },
      "source": [
        "# Score df:\n",
        "df_scores = pd.DataFrame(ordered_features.scores_, columns=['Score'])"
      ],
      "execution_count": null,
      "outputs": []
    },
    {
      "cell_type": "code",
      "metadata": {
        "id": "v9pQc26Vur5z"
      },
      "source": [
        "# Feature name df:\n",
        "df_columns = pd.DataFrame(X_train.columns, columns = ['Feature'])"
      ],
      "execution_count": null,
      "outputs": []
    },
    {
      "cell_type": "code",
      "metadata": {
        "id": "_2qse8DHuskw"
      },
      "source": [
        "# Concatenate two dfs:\n",
        "feature_rank = pd.concat([df_columns, df_scores],axis=1)"
      ],
      "execution_count": null,
      "outputs": []
    },
    {
      "cell_type": "code",
      "metadata": {
        "colab": {
          "base_uri": "https://localhost:8080/",
          "height": 478
        },
        "id": "bGCeuOQtuuh7",
        "outputId": "b0b6ce75-b0e5-4ead-9b59-c9e52e72f8b8"
      },
      "source": [
        "# Show in descending order:\n",
        "feature_rank.nlargest(14,'Score')"
      ],
      "execution_count": null,
      "outputs": [
        {
          "output_type": "execute_result",
          "data": {
            "text/html": [
              "<div>\n",
              "<style scoped>\n",
              "    .dataframe tbody tr th:only-of-type {\n",
              "        vertical-align: middle;\n",
              "    }\n",
              "\n",
              "    .dataframe tbody tr th {\n",
              "        vertical-align: top;\n",
              "    }\n",
              "\n",
              "    .dataframe thead th {\n",
              "        text-align: right;\n",
              "    }\n",
              "</style>\n",
              "<table border=\"1\" class=\"dataframe\">\n",
              "  <thead>\n",
              "    <tr style=\"text-align: right;\">\n",
              "      <th></th>\n",
              "      <th>Feature</th>\n",
              "      <th>Score</th>\n",
              "    </tr>\n",
              "  </thead>\n",
              "  <tbody>\n",
              "    <tr>\n",
              "      <th>3</th>\n",
              "      <td>explicit</td>\n",
              "      <td>6216.911178</td>\n",
              "    </tr>\n",
              "    <tr>\n",
              "      <th>4</th>\n",
              "      <td>instrumentalness</td>\n",
              "      <td>1633.000599</td>\n",
              "    </tr>\n",
              "    <tr>\n",
              "      <th>0</th>\n",
              "      <td>acousticness</td>\n",
              "      <td>1609.012423</td>\n",
              "    </tr>\n",
              "    <tr>\n",
              "      <th>11</th>\n",
              "      <td>year</td>\n",
              "      <td>1472.067163</td>\n",
              "    </tr>\n",
              "    <tr>\n",
              "      <th>2</th>\n",
              "      <td>energy</td>\n",
              "      <td>480.644492</td>\n",
              "    </tr>\n",
              "    <tr>\n",
              "      <th>1</th>\n",
              "      <td>danceability</td>\n",
              "      <td>152.316905</td>\n",
              "    </tr>\n",
              "    <tr>\n",
              "      <th>13</th>\n",
              "      <td>speechiness_log</td>\n",
              "      <td>121.719812</td>\n",
              "    </tr>\n",
              "    <tr>\n",
              "      <th>7</th>\n",
              "      <td>loudness</td>\n",
              "      <td>66.041584</td>\n",
              "    </tr>\n",
              "    <tr>\n",
              "      <th>6</th>\n",
              "      <td>liveness</td>\n",
              "      <td>60.665400</td>\n",
              "    </tr>\n",
              "    <tr>\n",
              "      <th>8</th>\n",
              "      <td>mode</td>\n",
              "      <td>32.915800</td>\n",
              "    </tr>\n",
              "    <tr>\n",
              "      <th>9</th>\n",
              "      <td>tempo</td>\n",
              "      <td>5.655586</td>\n",
              "    </tr>\n",
              "    <tr>\n",
              "      <th>10</th>\n",
              "      <td>valence</td>\n",
              "      <td>4.255956</td>\n",
              "    </tr>\n",
              "    <tr>\n",
              "      <th>12</th>\n",
              "      <td>duration_ms_log</td>\n",
              "      <td>4.152314</td>\n",
              "    </tr>\n",
              "    <tr>\n",
              "      <th>5</th>\n",
              "      <td>key</td>\n",
              "      <td>2.688477</td>\n",
              "    </tr>\n",
              "  </tbody>\n",
              "</table>\n",
              "</div>"
            ],
            "text/plain": [
              "             Feature        Score\n",
              "3           explicit  6216.911178\n",
              "4   instrumentalness  1633.000599\n",
              "0       acousticness  1609.012423\n",
              "11              year  1472.067163\n",
              "2             energy   480.644492\n",
              "1       danceability   152.316905\n",
              "13   speechiness_log   121.719812\n",
              "7           loudness    66.041584\n",
              "6           liveness    60.665400\n",
              "8               mode    32.915800\n",
              "9              tempo     5.655586\n",
              "10           valence     4.255956\n",
              "12   duration_ms_log     4.152314\n",
              "5                key     2.688477"
            ]
          },
          "metadata": {
            "tags": []
          },
          "execution_count": 151
        }
      ]
    },
    {
      "cell_type": "code",
      "metadata": {
        "id": "1d8WdpnTRcGI"
      },
      "source": [
        "# Create the object for SelectKBest and fit and transform the regression data:\n",
        "kbest = SelectKBest(score_func=f_regression, k='all').fit(X_regr_train, y_regr_train)\n",
        "ordered_features = kbest.fit(X_regr_train, y_regr_train)"
      ],
      "execution_count": null,
      "outputs": []
    },
    {
      "cell_type": "code",
      "metadata": {
        "id": "OMJM84PHUSYr"
      },
      "source": [
        "# Score df:\n",
        "df_scores = pd.DataFrame(ordered_features.scores_, columns=['Score'])"
      ],
      "execution_count": null,
      "outputs": []
    },
    {
      "cell_type": "code",
      "metadata": {
        "id": "qHlEsr9qUi7U"
      },
      "source": [
        "# Feature name df:\n",
        "df_columns = pd.DataFrame(X_train.columns, columns = ['Feature_name'])"
      ],
      "execution_count": null,
      "outputs": []
    },
    {
      "cell_type": "code",
      "metadata": {
        "id": "c7n-Fa7QUkQz"
      },
      "source": [
        "# Concatenate two dfs:\n",
        "feature_rank = pd.concat([df_scores,df_columns],axis=1)"
      ],
      "execution_count": null,
      "outputs": []
    },
    {
      "cell_type": "code",
      "metadata": {
        "id": "R-yieAJtUlk1",
        "colab": {
          "base_uri": "https://localhost:8080/",
          "height": 478
        },
        "outputId": "20452b18-90f8-4926-8d4d-17f3ee5f15db"
      },
      "source": [
        "# Show in descending order:\n",
        "feature_rank.nlargest(14,'Score')"
      ],
      "execution_count": null,
      "outputs": [
        {
          "output_type": "execute_result",
          "data": {
            "text/html": [
              "<div>\n",
              "<style scoped>\n",
              "    .dataframe tbody tr th:only-of-type {\n",
              "        vertical-align: middle;\n",
              "    }\n",
              "\n",
              "    .dataframe tbody tr th {\n",
              "        vertical-align: top;\n",
              "    }\n",
              "\n",
              "    .dataframe thead th {\n",
              "        text-align: right;\n",
              "    }\n",
              "</style>\n",
              "<table border=\"1\" class=\"dataframe\">\n",
              "  <thead>\n",
              "    <tr style=\"text-align: right;\">\n",
              "      <th></th>\n",
              "      <th>Score</th>\n",
              "      <th>Feature_name</th>\n",
              "    </tr>\n",
              "  </thead>\n",
              "  <tbody>\n",
              "    <tr>\n",
              "      <th>11</th>\n",
              "      <td>41800.906206</td>\n",
              "      <td>year</td>\n",
              "    </tr>\n",
              "    <tr>\n",
              "      <th>0</th>\n",
              "      <td>15191.761111</td>\n",
              "      <td>acousticness</td>\n",
              "    </tr>\n",
              "    <tr>\n",
              "      <th>7</th>\n",
              "      <td>10196.774594</td>\n",
              "      <td>loudness</td>\n",
              "    </tr>\n",
              "    <tr>\n",
              "      <th>3</th>\n",
              "      <td>7872.233348</td>\n",
              "      <td>explicit</td>\n",
              "    </tr>\n",
              "    <tr>\n",
              "      <th>2</th>\n",
              "      <td>7395.706262</td>\n",
              "      <td>energy</td>\n",
              "    </tr>\n",
              "    <tr>\n",
              "      <th>4</th>\n",
              "      <td>5022.943639</td>\n",
              "      <td>instrumentalness</td>\n",
              "    </tr>\n",
              "    <tr>\n",
              "      <th>1</th>\n",
              "      <td>4086.417875</td>\n",
              "      <td>danceability</td>\n",
              "    </tr>\n",
              "    <tr>\n",
              "      <th>12</th>\n",
              "      <td>1947.940200</td>\n",
              "      <td>duration_ms_log</td>\n",
              "    </tr>\n",
              "    <tr>\n",
              "      <th>6</th>\n",
              "      <td>756.053376</td>\n",
              "      <td>liveness</td>\n",
              "    </tr>\n",
              "    <tr>\n",
              "      <th>13</th>\n",
              "      <td>523.660224</td>\n",
              "      <td>speechiness_log</td>\n",
              "    </tr>\n",
              "    <tr>\n",
              "      <th>9</th>\n",
              "      <td>309.792982</td>\n",
              "      <td>tempo</td>\n",
              "    </tr>\n",
              "    <tr>\n",
              "      <th>8</th>\n",
              "      <td>97.855386</td>\n",
              "      <td>mode</td>\n",
              "    </tr>\n",
              "    <tr>\n",
              "      <th>10</th>\n",
              "      <td>79.707037</td>\n",
              "      <td>valence</td>\n",
              "    </tr>\n",
              "    <tr>\n",
              "      <th>5</th>\n",
              "      <td>10.703638</td>\n",
              "      <td>key</td>\n",
              "    </tr>\n",
              "  </tbody>\n",
              "</table>\n",
              "</div>"
            ],
            "text/plain": [
              "           Score      Feature_name\n",
              "11  41800.906206              year\n",
              "0   15191.761111      acousticness\n",
              "7   10196.774594          loudness\n",
              "3    7872.233348          explicit\n",
              "2    7395.706262            energy\n",
              "4    5022.943639  instrumentalness\n",
              "1    4086.417875      danceability\n",
              "12   1947.940200   duration_ms_log\n",
              "6     756.053376          liveness\n",
              "13    523.660224   speechiness_log\n",
              "9     309.792982             tempo\n",
              "8      97.855386              mode\n",
              "10     79.707037           valence\n",
              "5      10.703638               key"
            ]
          },
          "metadata": {
            "tags": []
          },
          "execution_count": 117
        }
      ]
    },
    {
      "cell_type": "markdown",
      "metadata": {
        "id": "Pov5ik6QWTjX"
      },
      "source": [
        "## Extra Trees Classifier - feature importance"
      ]
    },
    {
      "cell_type": "code",
      "metadata": {
        "id": "X-wTRmE4CaA7"
      },
      "source": [
        "# Feature importance with decision trees:\n",
        "from sklearn.ensemble import ExtraTreesClassifier"
      ],
      "execution_count": null,
      "outputs": []
    },
    {
      "cell_type": "code",
      "metadata": {
        "colab": {
          "base_uri": "https://localhost:8080/"
        },
        "id": "v0GLTX7owcOw",
        "outputId": "f2d16089-7484-4e9f-c2d2-911de4622824"
      },
      "source": [
        "# Create the model and fit it:\n",
        "model = ExtraTreesClassifier()\n",
        "model.fit(X_train, y_train)"
      ],
      "execution_count": null,
      "outputs": [
        {
          "output_type": "execute_result",
          "data": {
            "text/plain": [
              "ExtraTreesClassifier(bootstrap=False, ccp_alpha=0.0, class_weight=None,\n",
              "                     criterion='gini', max_depth=None, max_features='auto',\n",
              "                     max_leaf_nodes=None, max_samples=None,\n",
              "                     min_impurity_decrease=0.0, min_impurity_split=None,\n",
              "                     min_samples_leaf=1, min_samples_split=2,\n",
              "                     min_weight_fraction_leaf=0.0, n_estimators=100,\n",
              "                     n_jobs=None, oob_score=False, random_state=None, verbose=0,\n",
              "                     warm_start=False)"
            ]
          },
          "metadata": {
            "tags": []
          },
          "execution_count": 140
        }
      ]
    },
    {
      "cell_type": "code",
      "metadata": {
        "colab": {
          "base_uri": "https://localhost:8080/"
        },
        "id": "xH84_9l1wesO",
        "outputId": "666abd7f-703c-465c-e954-36b8bb16a6b2"
      },
      "source": [
        "# Scores:\n",
        "model.feature_importances_"
      ],
      "execution_count": null,
      "outputs": [
        {
          "output_type": "execute_result",
          "data": {
            "text/plain": [
              "array([0.08293467, 0.06911861, 0.07397584, 0.0443073 , 0.01751388,\n",
              "       0.05168853, 0.0658954 , 0.09173477, 0.01342833, 0.0632176 ,\n",
              "       0.06706581, 0.22614783, 0.06970527, 0.06326615])"
            ]
          },
          "metadata": {
            "tags": []
          },
          "execution_count": 141
        }
      ]
    },
    {
      "cell_type": "code",
      "metadata": {
        "id": "Ri9u08MZwg0R"
      },
      "source": [
        "# Create a df with ranked features:\n",
        "ranked_features = pd.Series(model.feature_importances_, index = X_train.columns)"
      ],
      "execution_count": null,
      "outputs": []
    },
    {
      "cell_type": "code",
      "metadata": {
        "colab": {
          "base_uri": "https://localhost:8080/",
          "height": 376
        },
        "id": "pMw9VkLUwi_Q",
        "outputId": "63e24256-9e4d-4974-c116-c237ccf709a1"
      },
      "source": [
        "# Plot in descending order:\n",
        "ranked_features.nlargest(14).plot(kind='bar').set_title('Feature Importance')"
      ],
      "execution_count": null,
      "outputs": [
        {
          "output_type": "execute_result",
          "data": {
            "text/plain": [
              "Text(0.5, 1.0, 'Feature Importance')"
            ]
          },
          "metadata": {
            "tags": []
          },
          "execution_count": 143
        },
        {
          "output_type": "display_data",
          "data": {
            "image/png": "[encoded data removed]",
            "text/plain": [
              "<Figure size 432x288 with 1 Axes>"
            ]
          },
          "metadata": {
            "tags": [],
            "needs_background": "light"
          }
        }
      ]
    },
    {
      "cell_type": "markdown",
      "metadata": {
        "id": "XA9JV3vFWaYY"
      },
      "source": [
        "## Mutual Info Classifier - information gain"
      ]
    },
    {
      "cell_type": "code",
      "metadata": {
        "id": "Z-7_mFlFWeiu"
      },
      "source": [
        "# Mutual information:\n",
        "from sklearn.feature_selection import mutual_info_classif\n",
        "\n",
        "mu_ifo = mutual_info_classif(X_train,y_train)"
      ],
      "execution_count": null,
      "outputs": []
    },
    {
      "cell_type": "code",
      "metadata": {
        "id": "_hpy9BeUWn-k",
        "colab": {
          "base_uri": "https://localhost:8080/"
        },
        "outputId": "73445651-ff5a-4431-de9a-7a05a33da467"
      },
      "source": [
        "# Create a series with scored features:\n",
        "mu_data = pd.Series(mu_ifo, index = X_train.columns)\n",
        "\n",
        "# Show in descending order:\n",
        "print('Features scored based on information gain: \\n')\n",
        "mu_data.sort_values(ascending=False)"
      ],
      "execution_count": null,
      "outputs": [
        {
          "output_type": "stream",
          "text": [
            "Features scored based on information gain: \n",
            "\n"
          ],
          "name": "stdout"
        },
        {
          "output_type": "execute_result",
          "data": {
            "text/plain": [
              "year                0.131163\n",
              "loudness            0.057841\n",
              "acousticness        0.034339\n",
              "duration_ms_log     0.029248\n",
              "energy              0.028327\n",
              "explicit            0.028120\n",
              "tempo               0.025030\n",
              "danceability        0.015296\n",
              "instrumentalness    0.013661\n",
              "speechiness_log     0.008699\n",
              "mode                0.007271\n",
              "key                 0.003829\n",
              "valence             0.002837\n",
              "liveness            0.000000\n",
              "dtype: float64"
            ]
          },
          "metadata": {
            "tags": []
          },
          "execution_count": 162
        }
      ]
    },
    {
      "cell_type": "code",
      "metadata": {
        "colab": {
          "base_uri": "https://localhost:8080/",
          "height": 478
        },
        "id": "JyvZ0PUM7GlC",
        "outputId": "47789277-78d6-4567-f0fc-8e659ccf034a"
      },
      "source": [
        "# Score df:\n",
        "df_scores = pd.DataFrame(mu_data, columns=['Score'])\n",
        "\n",
        "# Show in descending order:\n",
        "df_scores.nlargest(14,'Score')"
      ],
      "execution_count": null,
      "outputs": [
        {
          "output_type": "execute_result",
          "data": {
            "text/html": [
              "<div>\n",
              "<style scoped>\n",
              "    .dataframe tbody tr th:only-of-type {\n",
              "        vertical-align: middle;\n",
              "    }\n",
              "\n",
              "    .dataframe tbody tr th {\n",
              "        vertical-align: top;\n",
              "    }\n",
              "\n",
              "    .dataframe thead th {\n",
              "        text-align: right;\n",
              "    }\n",
              "</style>\n",
              "<table border=\"1\" class=\"dataframe\">\n",
              "  <thead>\n",
              "    <tr style=\"text-align: right;\">\n",
              "      <th></th>\n",
              "      <th>Score</th>\n",
              "    </tr>\n",
              "  </thead>\n",
              "  <tbody>\n",
              "    <tr>\n",
              "      <th>year</th>\n",
              "      <td>0.131163</td>\n",
              "    </tr>\n",
              "    <tr>\n",
              "      <th>loudness</th>\n",
              "      <td>0.057841</td>\n",
              "    </tr>\n",
              "    <tr>\n",
              "      <th>acousticness</th>\n",
              "      <td>0.034339</td>\n",
              "    </tr>\n",
              "    <tr>\n",
              "      <th>duration_ms_log</th>\n",
              "      <td>0.029248</td>\n",
              "    </tr>\n",
              "    <tr>\n",
              "      <th>energy</th>\n",
              "      <td>0.028327</td>\n",
              "    </tr>\n",
              "    <tr>\n",
              "      <th>explicit</th>\n",
              "      <td>0.028120</td>\n",
              "    </tr>\n",
              "    <tr>\n",
              "      <th>tempo</th>\n",
              "      <td>0.025030</td>\n",
              "    </tr>\n",
              "    <tr>\n",
              "      <th>danceability</th>\n",
              "      <td>0.015296</td>\n",
              "    </tr>\n",
              "    <tr>\n",
              "      <th>instrumentalness</th>\n",
              "      <td>0.013661</td>\n",
              "    </tr>\n",
              "    <tr>\n",
              "      <th>speechiness_log</th>\n",
              "      <td>0.008699</td>\n",
              "    </tr>\n",
              "    <tr>\n",
              "      <th>mode</th>\n",
              "      <td>0.007271</td>\n",
              "    </tr>\n",
              "    <tr>\n",
              "      <th>key</th>\n",
              "      <td>0.003829</td>\n",
              "    </tr>\n",
              "    <tr>\n",
              "      <th>valence</th>\n",
              "      <td>0.002837</td>\n",
              "    </tr>\n",
              "    <tr>\n",
              "      <th>liveness</th>\n",
              "      <td>0.000000</td>\n",
              "    </tr>\n",
              "  </tbody>\n",
              "</table>\n",
              "</div>"
            ],
            "text/plain": [
              "                     Score\n",
              "year              0.131163\n",
              "loudness          0.057841\n",
              "acousticness      0.034339\n",
              "duration_ms_log   0.029248\n",
              "energy            0.028327\n",
              "explicit          0.028120\n",
              "tempo             0.025030\n",
              "danceability      0.015296\n",
              "instrumentalness  0.013661\n",
              "speechiness_log   0.008699\n",
              "mode              0.007271\n",
              "key               0.003829\n",
              "valence           0.002837\n",
              "liveness          0.000000"
            ]
          },
          "metadata": {
            "tags": []
          },
          "execution_count": 168
        }
      ]
    },
    {
      "cell_type": "markdown",
      "metadata": {
        "id": "vHd6QYmEx48V"
      },
      "source": [
        "# Modelling\n"
      ]
    },
    {
      "cell_type": "code",
      "metadata": {
        "id": "P_LpPcL7yHGo"
      },
      "source": [
        "from sklearn.linear_model import LogisticRegression\n",
        "from sklearn.ensemble import RandomForestClassifier\n",
        "from sklearn.neighbors import KNeighborsClassifier\n",
        "from sklearn.svm import SVC\n",
        "from xgboost import XGBClassifier\n",
        "\n",
        "from sklearn.model_selection import train_test_split\n",
        "from sklearn.preprocessing import MinMaxScaler\n",
        "from sklearn.model_selection import cross_val_score\n",
        "from sklearn.metrics import confusion_matrix"
      ],
      "execution_count": 110,
      "outputs": []
    },
    {
      "cell_type": "code",
      "metadata": {
        "id": "FBXQ6RtXXQG2"
      },
      "source": [
        "#from sklearn.tree import DecisionTreeClassifier\n",
        "#from sklearn.metrics import make_scorer, accuracy_score, roc_auc_score \n",
        "#from sklearn.model_selection import GridSearchCV"
      ],
      "execution_count": 111,
      "outputs": []
    },
    {
      "cell_type": "code",
      "metadata": {
        "id": "l_-aRpFyhRqV"
      },
      "source": [
        "# Combined function incl. model evaluation:\n",
        "def classify(model, X, y):\n",
        "    \"\"\" This function takes the model, the input variables and the target variable as parameters. \n",
        "    It splits the data, normalises the data, fits the model, scores, \n",
        "    cross-validates it and plots a confusion matrix.\"\"\"\n",
        "    # Split the data:\n",
        "    X_train,X_test,y_train,y_test = train_test_split(X,y, test_size = 0.2, random_state=0)\n",
        "    # Normalise the data:\n",
        "    scaler = MinMaxScaler()\n",
        "    cols = ['loudness', 'duration_ms_log', 'speechiness_log' , 'tempo', 'year'] \n",
        "    X_train[cols] = scaler.fit_transform(X_train[cols])\n",
        "    X_test[cols] = scaler.transform(X_test[cols])\n",
        "    # Fit and score the model:\n",
        "    model.fit(X_train,y_train)\n",
        "    score = model.score(X_test,y_test)*100\n",
        "    print('Accuracy is: ', score)\n",
        "    # Cross-validation:\n",
        "    cv_score = cross_val_score(model,X,y,cv=5)\n",
        "    average_cv_score = np.mean(cv_score)*100\n",
        "    print('Cross validation Accuracy: ', average_cv_score)\n",
        "    # Confusion matrix: \n",
        "    y_pred = model.predict(X_test)\n",
        "    cm = confusion_matrix(y_test,y_pred)\n",
        "    return cm\n",
        "    #sns.heatmap(cm,annot=True).set_title(f'Confusion matrix for {model} model')\n",
        "    \n",
        "  \n",
        "def predict(model, X, y):\n",
        "    \"\"\" This function takes the model, the input variables and the target variable as parameters. \n",
        "    It splits the data, normalises the data, fits the model, scores and cross-validates it.\"\"\"\n",
        "    # Split the data:\n",
        "    X_train,X_test,y_train,y_test = train_test_split(X,y, test_size = 0.2, random_state=0)\n",
        "    # Normalise the data:\n",
        "    scaler = MinMaxScaler()\n",
        "    cols = ['loudness', 'year', 'duration_ms_log', 'speechiness_log' , 'tempo']\n",
        "    X_train[cols] = scaler.fit_transform(X_train[cols])\n",
        "    X_test[cols] = scaler.transform(X_test[cols])\n",
        "    # Fit and score the model:\n",
        "    model.fit(X_train,y_train)\n",
        "    score = model.score(X_test,y_test)*100\n",
        "    print('Accuracy is: ', score)\n",
        "    # Cross-validation:\n",
        "    cv_score = cross_val_score(model,X,y,cv=5)\n",
        "    average_cv_score = np.mean(cv_score)*100\n",
        "    print('Cross validation Accuracy: ', average_cv_score)"
      ],
      "execution_count": 112,
      "outputs": []
    },
    {
      "cell_type": "markdown",
      "metadata": {
        "id": "6lMBgWPS4v21"
      },
      "source": [
        "# Modelling - Regression:"
      ]
    },
    {
      "cell_type": "code",
      "metadata": {
        "id": "kmVPPNGi40Uj",
        "colab": {
          "base_uri": "https://localhost:8080/"
        },
        "outputId": "8066c5ee-e6df-4698-94f4-d5ba627247b3"
      },
      "source": [
        "from sklearn.linear_model import LinearRegression\n",
        "mlr = LinearRegression()\n",
        "X_regr_subset = spotify_data.drop(['popularity'],axis=1)\n",
        "predict(mlr, X_regr_subset, y_regr)"
      ],
      "execution_count": 113,
      "outputs": [
        {
          "output_type": "stream",
          "text": [
            "/usr/local/lib/python3.7/dist-packages/ipykernel_launcher.py:33: SettingWithCopyWarning: \n",
            "A value is trying to be set on a copy of a slice from a DataFrame.\n",
            "Try using .loc[row_indexer,col_indexer] = value instead\n",
            "\n",
            "See the caveats in the documentation: https://pandas.pydata.org/pandas-docs/stable/user_guide/indexing.html#returning-a-view-versus-a-copy\n",
            "/usr/local/lib/python3.7/dist-packages/pandas/core/indexing.py:1734: SettingWithCopyWarning: \n",
            "A value is trying to be set on a copy of a slice from a DataFrame.\n",
            "Try using .loc[row_indexer,col_indexer] = value instead\n",
            "\n",
            "See the caveats in the documentation: https://pandas.pydata.org/pandas-docs/stable/user_guide/indexing.html#returning-a-view-versus-a-copy\n",
            "  isetter(loc, value[:, i].tolist())\n",
            "/usr/local/lib/python3.7/dist-packages/ipykernel_launcher.py:34: SettingWithCopyWarning: \n",
            "A value is trying to be set on a copy of a slice from a DataFrame.\n",
            "Try using .loc[row_indexer,col_indexer] = value instead\n",
            "\n",
            "See the caveats in the documentation: https://pandas.pydata.org/pandas-docs/stable/user_guide/indexing.html#returning-a-view-versus-a-copy\n",
            "/usr/local/lib/python3.7/dist-packages/pandas/core/indexing.py:1734: SettingWithCopyWarning: \n",
            "A value is trying to be set on a copy of a slice from a DataFrame.\n",
            "Try using .loc[row_indexer,col_indexer] = value instead\n",
            "\n",
            "See the caveats in the documentation: https://pandas.pydata.org/pandas-docs/stable/user_guide/indexing.html#returning-a-view-versus-a-copy\n",
            "  isetter(loc, value[:, i].tolist())\n"
          ],
          "name": "stderr"
        },
        {
          "output_type": "stream",
          "text": [
            "Accuracy is:  25.22163943942668\n",
            "Cross validation Accuracy:  17.035131073960212\n"
          ],
          "name": "stdout"
        }
      ]
    },
    {
      "cell_type": "markdown",
      "metadata": {
        "id": "lFZKHoVwlsyn"
      },
      "source": [
        "# Modelling - Classification\n"
      ]
    },
    {
      "cell_type": "markdown",
      "metadata": {
        "id": "4mB_j5kBhgbr"
      },
      "source": [
        "## Logistic Regression"
      ]
    },
    {
      "cell_type": "code",
      "metadata": {
        "id": "cA4k5x3k0CMV",
        "colab": {
          "base_uri": "https://localhost:8080/",
          "height": 1000
        },
        "outputId": "911ba5ad-64c7-413b-cb26-07e7f13f272e"
      },
      "source": [
        "from sklearn.linear_model import LogisticRegression\n",
        "lr = LogisticRegression()\n",
        "cm = classify(lr, X, y)\n",
        "sns.heatmap(cm,annot=True).set_title(f'Confusion matrix for Logistic Regression model')"
      ],
      "execution_count": null,
      "outputs": [
        {
          "output_type": "stream",
          "text": [
            "/usr/local/lib/python3.7/dist-packages/ipykernel_launcher.py:9: SettingWithCopyWarning: \n",
            "A value is trying to be set on a copy of a slice from a DataFrame.\n",
            "Try using .loc[row_indexer,col_indexer] = value instead\n",
            "\n",
            "See the caveats in the documentation: https://pandas.pydata.org/pandas-docs/stable/user_guide/indexing.html#returning-a-view-versus-a-copy\n",
            "  if __name__ == '__main__':\n",
            "/usr/local/lib/python3.7/dist-packages/pandas/core/indexing.py:1734: SettingWithCopyWarning: \n",
            "A value is trying to be set on a copy of a slice from a DataFrame.\n",
            "Try using .loc[row_indexer,col_indexer] = value instead\n",
            "\n",
            "See the caveats in the documentation: https://pandas.pydata.org/pandas-docs/stable/user_guide/indexing.html#returning-a-view-versus-a-copy\n",
            "  isetter(loc, value[:, i].tolist())\n",
            "/usr/local/lib/python3.7/dist-packages/ipykernel_launcher.py:10: SettingWithCopyWarning: \n",
            "A value is trying to be set on a copy of a slice from a DataFrame.\n",
            "Try using .loc[row_indexer,col_indexer] = value instead\n",
            "\n",
            "See the caveats in the documentation: https://pandas.pydata.org/pandas-docs/stable/user_guide/indexing.html#returning-a-view-versus-a-copy\n",
            "  # Remove the CWD from sys.path while we load stuff.\n",
            "/usr/local/lib/python3.7/dist-packages/pandas/core/indexing.py:1734: SettingWithCopyWarning: \n",
            "A value is trying to be set on a copy of a slice from a DataFrame.\n",
            "Try using .loc[row_indexer,col_indexer] = value instead\n",
            "\n",
            "See the caveats in the documentation: https://pandas.pydata.org/pandas-docs/stable/user_guide/indexing.html#returning-a-view-versus-a-copy\n",
            "  isetter(loc, value[:, i].tolist())\n",
            "/usr/local/lib/python3.7/dist-packages/sklearn/linear_model/_logistic.py:940: ConvergenceWarning: lbfgs failed to converge (status=1):\n",
            "STOP: TOTAL NO. of ITERATIONS REACHED LIMIT.\n",
            "\n",
            "Increase the number of iterations (max_iter) or scale the data as shown in:\n",
            "    https://scikit-learn.org/stable/modules/preprocessing.html\n",
            "Please also refer to the documentation for alternative solver options:\n",
            "    https://scikit-learn.org/stable/modules/linear_model.html#logistic-regression\n",
            "  extra_warning_msg=_LOGISTIC_SOLVER_CONVERGENCE_MSG)\n"
          ],
          "name": "stderr"
        },
        {
          "output_type": "stream",
          "text": [
            "Accuracy is:  83.18551061007958\n"
          ],
          "name": "stdout"
        },
        {
          "output_type": "stream",
          "text": [
            "/usr/local/lib/python3.7/dist-packages/sklearn/linear_model/_logistic.py:940: ConvergenceWarning: lbfgs failed to converge (status=1):\n",
            "STOP: TOTAL NO. of ITERATIONS REACHED LIMIT.\n",
            "\n",
            "Increase the number of iterations (max_iter) or scale the data as shown in:\n",
            "    https://scikit-learn.org/stable/modules/preprocessing.html\n",
            "Please also refer to the documentation for alternative solver options:\n",
            "    https://scikit-learn.org/stable/modules/linear_model.html#logistic-regression\n",
            "  extra_warning_msg=_LOGISTIC_SOLVER_CONVERGENCE_MSG)\n",
            "/usr/local/lib/python3.7/dist-packages/sklearn/linear_model/_logistic.py:940: ConvergenceWarning: lbfgs failed to converge (status=1):\n",
            "STOP: TOTAL NO. of ITERATIONS REACHED LIMIT.\n",
            "\n",
            "Increase the number of iterations (max_iter) or scale the data as shown in:\n",
            "    https://scikit-learn.org/stable/modules/preprocessing.html\n",
            "Please also refer to the documentation for alternative solver options:\n",
            "    https://scikit-learn.org/stable/modules/linear_model.html#logistic-regression\n",
            "  extra_warning_msg=_LOGISTIC_SOLVER_CONVERGENCE_MSG)\n",
            "/usr/local/lib/python3.7/dist-packages/sklearn/linear_model/_logistic.py:940: ConvergenceWarning: lbfgs failed to converge (status=1):\n",
            "STOP: TOTAL NO. of ITERATIONS REACHED LIMIT.\n",
            "\n",
            "Increase the number of iterations (max_iter) or scale the data as shown in:\n",
            "    https://scikit-learn.org/stable/modules/preprocessing.html\n",
            "Please also refer to the documentation for alternative solver options:\n",
            "    https://scikit-learn.org/stable/modules/linear_model.html#logistic-regression\n",
            "  extra_warning_msg=_LOGISTIC_SOLVER_CONVERGENCE_MSG)\n",
            "/usr/local/lib/python3.7/dist-packages/sklearn/linear_model/_logistic.py:940: ConvergenceWarning: lbfgs failed to converge (status=1):\n",
            "STOP: TOTAL NO. of ITERATIONS REACHED LIMIT.\n",
            "\n",
            "Increase the number of iterations (max_iter) or scale the data as shown in:\n",
            "    https://scikit-learn.org/stable/modules/preprocessing.html\n",
            "Please also refer to the documentation for alternative solver options:\n",
            "    https://scikit-learn.org/stable/modules/linear_model.html#logistic-regression\n",
            "  extra_warning_msg=_LOGISTIC_SOLVER_CONVERGENCE_MSG)\n"
          ],
          "name": "stderr"
        },
        {
          "output_type": "stream",
          "text": [
            "Cross validation Accuracy:  79.74438200942427\n"
          ],
          "name": "stdout"
        },
        {
          "output_type": "stream",
          "text": [
            "/usr/local/lib/python3.7/dist-packages/sklearn/linear_model/_logistic.py:940: ConvergenceWarning: lbfgs failed to converge (status=1):\n",
            "STOP: TOTAL NO. of ITERATIONS REACHED LIMIT.\n",
            "\n",
            "Increase the number of iterations (max_iter) or scale the data as shown in:\n",
            "    https://scikit-learn.org/stable/modules/preprocessing.html\n",
            "Please also refer to the documentation for alternative solver options:\n",
            "    https://scikit-learn.org/stable/modules/linear_model.html#logistic-regression\n",
            "  extra_warning_msg=_LOGISTIC_SOLVER_CONVERGENCE_MSG)\n"
          ],
          "name": "stderr"
        },
        {
          "output_type": "execute_result",
          "data": {
            "text/plain": [
              "Text(0.5, 1.0, 'Confusion matrix for Logistic Regression model')"
            ]
          },
          "metadata": {
            "tags": []
          },
          "execution_count": 154
        },
        {
          "output_type": "display_data",
          "data": {
            "image/png": "[encoded data removed]",
            "text/plain": [
              "<Figure size 432x288 with 2 Axes>"
            ]
          },
          "metadata": {
            "tags": [],
            "needs_background": "light"
          }
        }
      ]
    },
    {
      "cell_type": "markdown",
      "metadata": {
        "id": "8_wRXf1ahizk"
      },
      "source": [
        "## SVM"
      ]
    },
    {
      "cell_type": "code",
      "metadata": {
        "colab": {
          "base_uri": "https://localhost:8080/"
        },
        "id": "Z08M4GeH0CmQ",
        "outputId": "0ed5dc00-85cf-4f4c-f568-5f198e385e64"
      },
      "source": [
        "from sklearn.svm import SVC\n",
        "svc = SVC(kernel='linear', C = 1)\n",
        "cm = classify(svc, X, y)\n",
        "sns.heatmap(cm,annot=True).set_title(f'Confusion matrix for SVM model')"
      ],
      "execution_count": null,
      "outputs": [
        {
          "output_type": "stream",
          "text": [
            "/usr/local/lib/python3.7/dist-packages/ipykernel_launcher.py:9: SettingWithCopyWarning: \n",
            "A value is trying to be set on a copy of a slice from a DataFrame.\n",
            "Try using .loc[row_indexer,col_indexer] = value instead\n",
            "\n",
            "See the caveats in the documentation: https://pandas.pydata.org/pandas-docs/stable/user_guide/indexing.html#returning-a-view-versus-a-copy\n",
            "  if __name__ == '__main__':\n",
            "/usr/local/lib/python3.7/dist-packages/pandas/core/indexing.py:1734: SettingWithCopyWarning: \n",
            "A value is trying to be set on a copy of a slice from a DataFrame.\n",
            "Try using .loc[row_indexer,col_indexer] = value instead\n",
            "\n",
            "See the caveats in the documentation: https://pandas.pydata.org/pandas-docs/stable/user_guide/indexing.html#returning-a-view-versus-a-copy\n",
            "  isetter(loc, value[:, i].tolist())\n",
            "/usr/local/lib/python3.7/dist-packages/ipykernel_launcher.py:10: SettingWithCopyWarning: \n",
            "A value is trying to be set on a copy of a slice from a DataFrame.\n",
            "Try using .loc[row_indexer,col_indexer] = value instead\n",
            "\n",
            "See the caveats in the documentation: https://pandas.pydata.org/pandas-docs/stable/user_guide/indexing.html#returning-a-view-versus-a-copy\n",
            "  # Remove the CWD from sys.path while we load stuff.\n",
            "/usr/local/lib/python3.7/dist-packages/pandas/core/indexing.py:1734: SettingWithCopyWarning: \n",
            "A value is trying to be set on a copy of a slice from a DataFrame.\n",
            "Try using .loc[row_indexer,col_indexer] = value instead\n",
            "\n",
            "See the caveats in the documentation: https://pandas.pydata.org/pandas-docs/stable/user_guide/indexing.html#returning-a-view-versus-a-copy\n",
            "  isetter(loc, value[:, i].tolist())\n"
          ],
          "name": "stderr"
        },
        {
          "output_type": "stream",
          "text": [
            "Accuracy is:  79.4512599469496\n",
            "Cross validation Accuracy:  82.56445319220936\n"
          ],
          "name": "stdout"
        }
      ]
    },
    {
      "cell_type": "markdown",
      "metadata": {
        "id": "6HBq6ypJhkXI"
      },
      "source": [
        "## KNN"
      ]
    },
    {
      "cell_type": "code",
      "metadata": {
        "colab": {
          "base_uri": "https://localhost:8080/",
          "height": 749
        },
        "id": "gPHpvy860DDi",
        "outputId": "1b2a316c-a9fd-4c1a-bb9a-2a3004fc2a6c"
      },
      "source": [
        "from sklearn.neighbors import KNeighborsClassifier\n",
        "knn = KNeighborsClassifier(n_neighbors=5)\n",
        "cm = classify(knn, X, y)\n",
        "sns.heatmap(cm,annot=True).set_title(f'Confusion matrix for KNN model')"
      ],
      "execution_count": null,
      "outputs": [
        {
          "output_type": "stream",
          "text": [
            "/usr/local/lib/python3.7/dist-packages/ipykernel_launcher.py:9: SettingWithCopyWarning: \n",
            "A value is trying to be set on a copy of a slice from a DataFrame.\n",
            "Try using .loc[row_indexer,col_indexer] = value instead\n",
            "\n",
            "See the caveats in the documentation: https://pandas.pydata.org/pandas-docs/stable/user_guide/indexing.html#returning-a-view-versus-a-copy\n",
            "  if __name__ == '__main__':\n",
            "/usr/local/lib/python3.7/dist-packages/pandas/core/indexing.py:1734: SettingWithCopyWarning: \n",
            "A value is trying to be set on a copy of a slice from a DataFrame.\n",
            "Try using .loc[row_indexer,col_indexer] = value instead\n",
            "\n",
            "See the caveats in the documentation: https://pandas.pydata.org/pandas-docs/stable/user_guide/indexing.html#returning-a-view-versus-a-copy\n",
            "  isetter(loc, value[:, i].tolist())\n",
            "/usr/local/lib/python3.7/dist-packages/ipykernel_launcher.py:10: SettingWithCopyWarning: \n",
            "A value is trying to be set on a copy of a slice from a DataFrame.\n",
            "Try using .loc[row_indexer,col_indexer] = value instead\n",
            "\n",
            "See the caveats in the documentation: https://pandas.pydata.org/pandas-docs/stable/user_guide/indexing.html#returning-a-view-versus-a-copy\n",
            "  # Remove the CWD from sys.path while we load stuff.\n",
            "/usr/local/lib/python3.7/dist-packages/pandas/core/indexing.py:1734: SettingWithCopyWarning: \n",
            "A value is trying to be set on a copy of a slice from a DataFrame.\n",
            "Try using .loc[row_indexer,col_indexer] = value instead\n",
            "\n",
            "See the caveats in the documentation: https://pandas.pydata.org/pandas-docs/stable/user_guide/indexing.html#returning-a-view-versus-a-copy\n",
            "  isetter(loc, value[:, i].tolist())\n"
          ],
          "name": "stderr"
        },
        {
          "output_type": "stream",
          "text": [
            "Accuracy is:  81.67274535809018\n",
            "Cross validation Accuracy:  80.35865245953688\n"
          ],
          "name": "stdout"
        },
        {
          "output_type": "execute_result",
          "data": {
            "text/plain": [
              "Text(0.5, 1.0, 'Confusion matrix for KNN model')"
            ]
          },
          "metadata": {
            "tags": []
          },
          "execution_count": 155
        },
        {
          "output_type": "display_data",
          "data": {
            "image/png": "[encoded data removed]",
            "text/plain": [
              "<Figure size 432x288 with 2 Axes>"
            ]
          },
          "metadata": {
            "tags": [],
            "needs_background": "light"
          }
        }
      ]
    },
    {
      "cell_type": "markdown",
      "metadata": {
        "id": "6VNMemFM0FB_"
      },
      "source": [
        "## Random Forests"
      ]
    },
    {
      "cell_type": "code",
      "metadata": {
        "colab": {
          "base_uri": "https://localhost:8080/",
          "height": 732
        },
        "id": "xr7SM1m90GwW",
        "outputId": "d9982f3a-a5a1-4db6-e103-7e9d30c36559"
      },
      "source": [
        "from sklearn.ensemble import RandomForestClassifier\n",
        "rfc = RandomForestClassifier()\n",
        "cm = classify(rfc, X, y)\n",
        "sns.heatmap(cm,annot=True).set_title(f'Confusion matrix for Random Forests model')\n",
        "\n",
        "\n",
        "plt.show()"
      ],
      "execution_count": 121,
      "outputs": [
        {
          "output_type": "stream",
          "text": [
            "/usr/local/lib/python3.7/dist-packages/ipykernel_launcher.py:9: SettingWithCopyWarning: \n",
            "A value is trying to be set on a copy of a slice from a DataFrame.\n",
            "Try using .loc[row_indexer,col_indexer] = value instead\n",
            "\n",
            "See the caveats in the documentation: https://pandas.pydata.org/pandas-docs/stable/user_guide/indexing.html#returning-a-view-versus-a-copy\n",
            "  if __name__ == '__main__':\n",
            "/usr/local/lib/python3.7/dist-packages/pandas/core/indexing.py:1734: SettingWithCopyWarning: \n",
            "A value is trying to be set on a copy of a slice from a DataFrame.\n",
            "Try using .loc[row_indexer,col_indexer] = value instead\n",
            "\n",
            "See the caveats in the documentation: https://pandas.pydata.org/pandas-docs/stable/user_guide/indexing.html#returning-a-view-versus-a-copy\n",
            "  isetter(loc, value[:, i].tolist())\n",
            "/usr/local/lib/python3.7/dist-packages/ipykernel_launcher.py:10: SettingWithCopyWarning: \n",
            "A value is trying to be set on a copy of a slice from a DataFrame.\n",
            "Try using .loc[row_indexer,col_indexer] = value instead\n",
            "\n",
            "See the caveats in the documentation: https://pandas.pydata.org/pandas-docs/stable/user_guide/indexing.html#returning-a-view-versus-a-copy\n",
            "  # Remove the CWD from sys.path while we load stuff.\n",
            "/usr/local/lib/python3.7/dist-packages/pandas/core/indexing.py:1734: SettingWithCopyWarning: \n",
            "A value is trying to be set on a copy of a slice from a DataFrame.\n",
            "Try using .loc[row_indexer,col_indexer] = value instead\n",
            "\n",
            "See the caveats in the documentation: https://pandas.pydata.org/pandas-docs/stable/user_guide/indexing.html#returning-a-view-versus-a-copy\n",
            "  isetter(loc, value[:, i].tolist())\n"
          ],
          "name": "stderr"
        },
        {
          "output_type": "stream",
          "text": [
            "Accuracy is:  85.80072944297082\n",
            "Cross validation Accuracy:  84.73705647359647\n"
          ],
          "name": "stdout"
        },
        {
          "output_type": "display_data",
          "data": {
            "image/png": "[encoded data removed]",
            "text/plain": [
              "<Figure size 432x288 with 2 Axes>"
            ]
          },
          "metadata": {
            "tags": [],
            "needs_background": "light"
          }
        }
      ]
    },
    {
      "cell_type": "code",
      "metadata": {
        "colab": {
          "base_uri": "https://localhost:8080/"
        },
        "id": "cZlXpbHsdy54",
        "outputId": "64073013-f42f-4fe6-87a4-88f0947dc79d"
      },
      "source": [
        "#rfc.feature_importances_\n",
        "ranked_features = pd.Series(rfc.feature_importances_, index = X_train.columns)\n",
        "ranked_features.nlargest(14)#plot(kind='bar')"
      ],
      "execution_count": 125,
      "outputs": [
        {
          "output_type": "execute_result",
          "data": {
            "text/plain": [
              "year                0.233606\n",
              "loudness            0.108736\n",
              "duration_ms_log     0.082044\n",
              "energy              0.079196\n",
              "acousticness        0.079135\n",
              "danceability        0.069442\n",
              "liveness            0.066386\n",
              "valence             0.066243\n",
              "tempo               0.065963\n",
              "speechiness_log     0.063578\n",
              "key                 0.033972\n",
              "explicit            0.029759\n",
              "instrumentalness    0.013750\n",
              "mode                0.008191\n",
              "dtype: float64"
            ]
          },
          "metadata": {
            "tags": []
          },
          "execution_count": 125
        }
      ]
    },
    {
      "cell_type": "code",
      "metadata": {
        "id": "somjOASOoPAv",
        "colab": {
          "base_uri": "https://localhost:8080/",
          "height": 376
        },
        "outputId": "1f3cf0c1-befd-4a74-cc5c-a61ebf57cdc0"
      },
      "source": [
        "ranked_features.nlargest(14).plot(kind='bar').set_title('Feature Importance')"
      ],
      "execution_count": 126,
      "outputs": [
        {
          "output_type": "execute_result",
          "data": {
            "text/plain": [
              "Text(0.5, 1.0, 'Feature Importance')"
            ]
          },
          "metadata": {
            "tags": []
          },
          "execution_count": 126
        },
        {
          "output_type": "display_data",
          "data": {
            "image/png": "[encoded data removed]",
            "text/plain": [
              "<Figure size 432x288 with 1 Axes>"
            ]
          },
          "metadata": {
            "tags": [],
            "needs_background": "light"
          }
        }
      ]
    },
    {
      "cell_type": "markdown",
      "metadata": {
        "id": "ahHfUXpKyMr-"
      },
      "source": [
        "## XGBoost"
      ]
    },
    {
      "cell_type": "code",
      "metadata": {
        "id": "_YAO6e5RyQQX",
        "colab": {
          "base_uri": "https://localhost:8080/",
          "height": 749
        },
        "outputId": "7fc266a4-3637-4bab-e68d-a0b8dc8bdb46"
      },
      "source": [
        "from xgboost import XGBClassifier\n",
        "xgb = XGBClassifier(objective = \"binary:logistic\", n_estimators = 10, seed = 123)\n",
        "cm = classify(xgb, X, y)\n",
        "sns.heatmap(cm,annot=True).set_title(f'Confusion matrix for XGBoost model')"
      ],
      "execution_count": null,
      "outputs": [
        {
          "output_type": "stream",
          "text": [
            "/usr/local/lib/python3.7/dist-packages/ipykernel_launcher.py:9: SettingWithCopyWarning: \n",
            "A value is trying to be set on a copy of a slice from a DataFrame.\n",
            "Try using .loc[row_indexer,col_indexer] = value instead\n",
            "\n",
            "See the caveats in the documentation: https://pandas.pydata.org/pandas-docs/stable/user_guide/indexing.html#returning-a-view-versus-a-copy\n",
            "  if __name__ == '__main__':\n",
            "/usr/local/lib/python3.7/dist-packages/pandas/core/indexing.py:1734: SettingWithCopyWarning: \n",
            "A value is trying to be set on a copy of a slice from a DataFrame.\n",
            "Try using .loc[row_indexer,col_indexer] = value instead\n",
            "\n",
            "See the caveats in the documentation: https://pandas.pydata.org/pandas-docs/stable/user_guide/indexing.html#returning-a-view-versus-a-copy\n",
            "  isetter(loc, value[:, i].tolist())\n",
            "/usr/local/lib/python3.7/dist-packages/ipykernel_launcher.py:10: SettingWithCopyWarning: \n",
            "A value is trying to be set on a copy of a slice from a DataFrame.\n",
            "Try using .loc[row_indexer,col_indexer] = value instead\n",
            "\n",
            "See the caveats in the documentation: https://pandas.pydata.org/pandas-docs/stable/user_guide/indexing.html#returning-a-view-versus-a-copy\n",
            "  # Remove the CWD from sys.path while we load stuff.\n",
            "/usr/local/lib/python3.7/dist-packages/pandas/core/indexing.py:1734: SettingWithCopyWarning: \n",
            "A value is trying to be set on a copy of a slice from a DataFrame.\n",
            "Try using .loc[row_indexer,col_indexer] = value instead\n",
            "\n",
            "See the caveats in the documentation: https://pandas.pydata.org/pandas-docs/stable/user_guide/indexing.html#returning-a-view-versus-a-copy\n",
            "  isetter(loc, value[:, i].tolist())\n"
          ],
          "name": "stderr"
        },
        {
          "output_type": "stream",
          "text": [
            "Accuracy is:  83.8071949602122\n",
            "Cross validation Accuracy:  83.3104964003479\n"
          ],
          "name": "stdout"
        },
        {
          "output_type": "execute_result",
          "data": {
            "text/plain": [
              "Text(0.5, 1.0, 'Confusion matrix for XGBoost model')"
            ]
          },
          "metadata": {
            "tags": []
          },
          "execution_count": 156
        },
        {
          "output_type": "display_data",
          "data": {
            "image/png": "[encoded data removed]",
            "text/plain": [
              "<Figure size 432x288 with 2 Axes>"
            ]
          },
          "metadata": {
            "tags": [],
            "needs_background": "light"
          }
        }
      ]
    },
    {
      "cell_type": "markdown",
      "metadata": {
        "id": "_D1J7PEQVyx3"
      },
      "source": [
        "# Confusion Matrix\n"
      ]
    },
    {
      "cell_type": "markdown",
      "metadata": {
        "id": "EduWQV4YlcWc"
      },
      "source": [
        "Important to have balanced dataset - popular and not popular."
      ]
    },
    {
      "cell_type": "code",
      "metadata": {
        "id": "z5I5LfCJlRPp"
      },
      "source": [
        "#from sklearn.svm import SVC\n",
        "#clf = SVC(kernel='linear', C = 1)"
      ],
      "execution_count": null,
      "outputs": []
    },
    {
      "cell_type": "code",
      "metadata": {
        "colab": {
          "base_uri": "https://localhost:8080/"
        },
        "id": "CJ-Q4Z_DlTcZ",
        "outputId": "bd159421-5814-4009-b4a2-4f0b82ef97db"
      },
      "source": [
        "#clf.fit(X_train,y_train)"
      ],
      "execution_count": null,
      "outputs": [
        {
          "output_type": "execute_result",
          "data": {
            "text/plain": [
              "SVC(C=1, break_ties=False, cache_size=200, class_weight=None, coef0=0.0,\n",
              "    decision_function_shape='ovr', degree=3, gamma='scale', kernel='linear',\n",
              "    max_iter=-1, probability=False, random_state=None, shrinking=True,\n",
              "    tol=0.001, verbose=False)"
            ]
          },
          "metadata": {
            "tags": []
          },
          "execution_count": 140
        }
      ]
    },
    {
      "cell_type": "code",
      "metadata": {
        "id": "77lSwJAclWDB"
      },
      "source": [
        "#y_pred = model.predict(X_test)"
      ],
      "execution_count": null,
      "outputs": []
    },
    {
      "cell_type": "code",
      "metadata": {
        "id": "epHcydKQlWh9"
      },
      "source": [
        "#from sklearn.metrics import confusion_matrix\n",
        "\n",
        "#cm = confusion_matrix(y_test,y_pred)"
      ],
      "execution_count": null,
      "outputs": []
    },
    {
      "cell_type": "code",
      "metadata": {
        "colab": {
          "base_uri": "https://localhost:8080/",
          "height": 298
        },
        "id": "EJj7oFfLloRV",
        "outputId": "daa9d018-0eeb-43a1-f2b2-7201af738d4c"
      },
      "source": [
        "#sns.heatmap(cm,annot=True).set_title('Confusion matrix for SVC model')"
      ],
      "execution_count": null,
      "outputs": [
        {
          "output_type": "execute_result",
          "data": {
            "text/plain": [
              "Text(0.5, 1.0, 'Confusion matrix for SVC model')"
            ]
          },
          "metadata": {
            "tags": []
          },
          "execution_count": 147
        },
        {
          "output_type": "display_data",
          "data": {
            "image/png": "[encoded data removed]",
            "text/plain": [
              "<Figure size 432x288 with 2 Axes>"
            ]
          },
          "metadata": {
            "tags": [],
            "needs_background": "light"
          }
        }
      ]
    },
    {
      "cell_type": "code",
      "metadata": {
        "colab": {
          "base_uri": "https://localhost:8080/"
        },
        "id": "uX2wcQFnpI9K",
        "outputId": "d1bcfd53-08b9-4762-b85e-9574a9949b67"
      },
      "source": [
        "spotify_data.value_counts('popularity')"
      ],
      "execution_count": 116,
      "outputs": [
        {
          "output_type": "execute_result",
          "data": {
            "text/plain": [
              "popularity\n",
              "0    93880\n",
              "1    26758\n",
              "dtype: int64"
            ]
          },
          "metadata": {
            "tags": []
          },
          "execution_count": 116
        }
      ]
    },
    {
      "cell_type": "code",
      "metadata": {
        "colab": {
          "base_uri": "https://localhost:8080/",
          "height": 366
        },
        "id": "eeM5bgC7ql7R",
        "outputId": "9b21903f-4977-4eca-99cf-92fc65cf49de"
      },
      "source": [
        "sns.countplot(spotify_data.popularity).set_title('Popularity Distribution')"
      ],
      "execution_count": 117,
      "outputs": [
        {
          "output_type": "stream",
          "text": [
            "/usr/local/lib/python3.7/dist-packages/seaborn/_decorators.py:43: FutureWarning: Pass the following variable as a keyword arg: x. From version 0.12, the only valid positional argument will be `data`, and passing other arguments without an explicit keyword will result in an error or misinterpretation.\n",
            "  FutureWarning\n"
          ],
          "name": "stderr"
        },
        {
          "output_type": "execute_result",
          "data": {
            "text/plain": [
              "Text(0.5, 1.0, 'Popularity Distribution')"
            ]
          },
          "metadata": {
            "tags": []
          },
          "execution_count": 117
        },
        {
          "output_type": "display_data",
          "data": {
            "image/png": "[encoded data removed]",
            "text/plain": [
              "<Figure size 432x288 with 1 Axes>"
            ]
          },
          "metadata": {
            "tags": [],
            "needs_background": "light"
          }
        }
      ]
    },
    {
      "cell_type": "code",
      "metadata": {
        "id": "qeveTTo3nrOR"
      },
      "source": [
        "#data.drop(data[data.popularity == 0].index, inplace=True)\n",
        "#data[data['year'] < 1930]"
      ],
      "execution_count": null,
      "outputs": []
    },
    {
      "cell_type": "markdown",
      "metadata": {
        "id": "qzu0hr9lH1Ri"
      },
      "source": [
        "## ROC curve\n"
      ]
    },
    {
      "cell_type": "code",
      "metadata": {
        "id": "YRY73AB2IKGs",
        "colab": {
          "base_uri": "https://localhost:8080/",
          "height": 278
        },
        "outputId": "1a5b57cc-78d4-4363-c08e-ad3bb6648356"
      },
      "source": [
        "from sklearn.metrics import roc_curve, roc_auc_score\n",
        "\n",
        "y_pred_proba = rfc.predict_proba(X_test)[:,1]\n",
        "false_positive_rate, true_positive_rate, threshold = roc_curve(y_test,\n",
        "y_pred_proba)\n",
        "\n",
        "# Plot ROC curve\n",
        "#plt.title(\"ROC curve for Random Forests model\")\n",
        "plt.plot(false_positive_rate, true_positive_rate)\n",
        "plt.plot([0, 1], ls=\"--\")\n",
        "plt.plot([0, 0], [1, 0] , c=\".7\"), plt.plot([1, 1] , c=\".7\")\n",
        "plt.ylabel(\"True Positive Rate\")\n",
        "plt.xlabel(\"False Positive Rate\")\n",
        "plt.show()"
      ],
      "execution_count": 124,
      "outputs": [
        {
          "output_type": "display_data",
          "data": {
            "image/png": "[encoded data removed]",
            "text/plain": [
              "<Figure size 432x288 with 1 Axes>"
            ]
          },
          "metadata": {
            "tags": [],
            "needs_background": "light"
          }
        }
      ]
    }
  ]
}